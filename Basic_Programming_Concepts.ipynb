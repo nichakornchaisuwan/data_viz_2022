{
  "nbformat": 4,
  "nbformat_minor": 0,
  "metadata": {
    "colab": {
      "name": "Basic Programming Concepts.ipynb",
      "provenance": [],
      "authorship_tag": "ABX9TyOGwKDTDTNreD1sryvNiu1U",
      "include_colab_link": true
    },
    "kernelspec": {
      "name": "python3",
      "display_name": "Python 3"
    },
    "language_info": {
      "name": "python"
    }
  },
  "cells": [
    {
      "cell_type": "markdown",
      "metadata": {
        "id": "view-in-github",
        "colab_type": "text"
      },
      "source": [
        "<a href=\"https://colab.research.google.com/github/nichakornchaisuwan/data_viz_2022/blob/main/Basic_Programming_Concepts.ipynb\" target=\"_parent\"><img src=\"https://colab.research.google.com/assets/colab-badge.svg\" alt=\"Open In Colab\"/></a>"
      ]
    },
    {
      "cell_type": "markdown",
      "source": [
        "#Function($f(x) = y $)"
      ],
      "metadata": {
        "id": "lz-seBWaDi21"
      }
    },
    {
      "cell_type": "markdown",
      "source": [
        "```python\n",
        "def function_name(input_x) :\n",
        "     # do something with input_x to get output_y\n",
        "     return output_y\n",
        "```\n",
        "def เป็นการบอกว่าจะสร้าง function"
      ],
      "metadata": {
        "id": "b_xqcvUPEJPv"
      }
    },
    {
      "cell_type": "markdown",
      "source": [
        "$f_1(x) = x^2 + 75$"
      ],
      "metadata": {
        "id": "Ejx0n8KxFx8S"
      }
    },
    {
      "cell_type": "code",
      "source": [
        "def function_f1(x): #name, input\n",
        "    a =x**2      #process\n",
        "    y = a + 75   \n",
        "    return y     #output\n",
        "print('done!')"
      ],
      "metadata": {
        "colab": {
          "base_uri": "https://localhost:8080/"
        },
        "id": "-8x42789FwcK",
        "outputId": "f2c348e9-dc02-4ec0-e253-8f883c801bb5"
      },
      "execution_count": 3,
      "outputs": [
        {
          "output_type": "stream",
          "name": "stdout",
          "text": [
            "done!\n"
          ]
        }
      ]
    },
    {
      "cell_type": "code",
      "source": [
        "function_f1(3) # แทนค่า x"
      ],
      "metadata": {
        "colab": {
          "base_uri": "https://localhost:8080/"
        },
        "id": "R-sFir0cGSu5",
        "outputId": "0f1c51be-fc45-4f87-80de-dd03a45cd14f"
      },
      "execution_count": 4,
      "outputs": [
        {
          "output_type": "execute_result",
          "data": {
            "text/plain": [
              "84"
            ]
          },
          "metadata": {},
          "execution_count": 4
        }
      ]
    },
    {
      "cell_type": "markdown",
      "source": [
        "function มีส่วนสำคัญทั้งหมด 4 ส่วน\n",
        "\n",
        "1. บอก python ว่าเราจะเขียนฟังก์ชั่น ชื่ออะไร `def function_name()`: (ขาดไม่ได้)\n",
        "2. กำหนดตัวแปรที่จะเป็น input Input (ขาดได้)\n",
        "3. ส่วนประมวลผล do_something with Input to get Output (ขาดไม่ได้)\n",
        "4. ส่วน output `return` Output(ขาดได้)"
      ],
      "metadata": {
        "id": "7Imf9sDbHVVJ"
      }
    },
    {
      "cell_type": "markdown",
      "source": [
        "### ตัวอย่าง function ที่มีส่วนประกอบ"
      ],
      "metadata": {
        "id": "UGB45pbpIFdM"
      }
    },
    {
      "cell_type": "code",
      "source": [
        "def function_f1(x): #name, input\n",
        "    a =x**2      #process\n",
        "    y = a + 75   \n",
        "    return y     #output"
      ],
      "metadata": {
        "id": "LaI_4khlGlY_"
      },
      "execution_count": 5,
      "outputs": []
    },
    {
      "cell_type": "markdown",
      "source": [
        "###ตัวอย่าง function ที่ไม่มี input"
      ],
      "metadata": {
        "id": "mzolj0G3IaIf"
      }
    },
    {
      "cell_type": "code",
      "source": [
        "def pi_v():\n",
        "    y = 3.14159\n",
        "    return y"
      ],
      "metadata": {
        "id": "7WA3kFISIXDg"
      },
      "execution_count": 6,
      "outputs": []
    },
    {
      "cell_type": "code",
      "source": [
        "piv = pi_v()\n",
        "circle_area_r2 = piv*(2**2)\n",
        "print (circle_area_r2)"
      ],
      "metadata": {
        "colab": {
          "base_uri": "https://localhost:8080/"
        },
        "id": "GLiiqgvCIqBe",
        "outputId": "d34f0d3a-76f0-40c9-8730-1c2cadfb1bf0"
      },
      "execution_count": 8,
      "outputs": [
        {
          "output_type": "stream",
          "name": "stdout",
          "text": [
            "12.56636\n"
          ]
        }
      ]
    },
    {
      "cell_type": "markdown",
      "source": [
        "### ตัวอย่าง function ไม่มี  process ไม่ได้"
      ],
      "metadata": {
        "id": "GAjUjnrNJLjZ"
      }
    },
    {
      "cell_type": "code",
      "source": [
        "def function_a(): #name, input"
      ],
      "metadata": {
        "colab": {
          "base_uri": "https://localhost:8080/",
          "height": 132
        },
        "id": "jKqQIEe6IMSu",
        "outputId": "f4488a83-9486-4757-9f83-7a31bc55da28"
      },
      "execution_count": 9,
      "outputs": [
        {
          "output_type": "error",
          "ename": "SyntaxError",
          "evalue": "ignored",
          "traceback": [
            "\u001b[0;36m  File \u001b[0;32m\"<ipython-input-9-2c950e2658ef>\"\u001b[0;36m, line \u001b[0;32m1\u001b[0m\n\u001b[0;31m    def function_a(): #name, input\u001b[0m\n\u001b[0m                                  ^\u001b[0m\n\u001b[0;31mSyntaxError\u001b[0m\u001b[0;31m:\u001b[0m unexpected EOF while parsing\n"
          ]
        }
      ]
    },
    {
      "cell_type": "markdown",
      "source": [
        "### ตัวอย่าง function ที่ไม่มี output"
      ],
      "metadata": {
        "id": "2B33km9MJXfE"
      }
    },
    {
      "cell_type": "code",
      "source": [
        "def print_name_id(name,id):\n",
        "    print (f'ชื่อ {name} รหัสประจำตัว {id}')"
      ],
      "metadata": {
        "id": "BXB8R_zRJfsU"
      },
      "execution_count": 12,
      "outputs": []
    },
    {
      "cell_type": "code",
      "source": [
        "print_name_id('ณิชากร','ุ623020521-8')"
      ],
      "metadata": {
        "colab": {
          "base_uri": "https://localhost:8080/"
        },
        "id": "6opIu0m9J5jg",
        "outputId": "77a6313c-4789-4c96-d345-fefa224dd92c"
      },
      "execution_count": 13,
      "outputs": [
        {
          "output_type": "stream",
          "name": "stdout",
          "text": [
            "ชื่อ ณิชากร รหัสประจำตัว ุ623020521-8\n"
          ]
        }
      ]
    },
    {
      "cell_type": "code",
      "source": [
        "a = print_name_id('ณิชากร','ุ623020521-8')"
      ],
      "metadata": {
        "colab": {
          "base_uri": "https://localhost:8080/"
        },
        "id": "lomD3Vn3Kn-6",
        "outputId": "c2350cc3-5c9b-47cd-d8a3-8c01140744b1"
      },
      "execution_count": 14,
      "outputs": [
        {
          "output_type": "stream",
          "name": "stdout",
          "text": [
            "ชื่อ ณิชากร รหัสประจำตัว ุ623020521-8\n"
          ]
        }
      ]
    },
    {
      "cell_type": "code",
      "source": [
        "a"
      ],
      "metadata": {
        "id": "kB-b1MFvKrkt"
      },
      "execution_count": 15,
      "outputs": []
    },
    {
      "cell_type": "markdown",
      "source": [
        "ตัวอย่าง function `Print`"
      ],
      "metadata": {
        "id": "n9pFaz2SOvVG"
      }
    },
    {
      "cell_type": "code",
      "source": [
        "print('ณิชากร')\n",
        "print ('623020521-8')"
      ],
      "metadata": {
        "colab": {
          "base_uri": "https://localhost:8080/"
        },
        "id": "fY48AH3qO_I6",
        "outputId": "e55333d3-656e-4e32-89a7-f53e4d4202f8"
      },
      "execution_count": 16,
      "outputs": [
        {
          "output_type": "stream",
          "name": "stdout",
          "text": [
            "ณิชากร\n",
            "623020521-8\n"
          ]
        }
      ]
    },
    {
      "cell_type": "code",
      "source": [
        "print('ณิชากร',end='->')\n",
        "print ('623020521-8')"
      ],
      "metadata": {
        "colab": {
          "base_uri": "https://localhost:8080/"
        },
        "id": "ccGnsA8TPROF",
        "outputId": "38438d53-1365-4dae-a6e9-3d4dfdb131d4"
      },
      "execution_count": 17,
      "outputs": [
        {
          "output_type": "stream",
          "name": "stdout",
          "text": [
            "ณิชากร->623020521-8\n"
          ]
        }
      ]
    },
    {
      "cell_type": "code",
      "source": [
        "print('ณิชากร','623020521-8')\n"
      ],
      "metadata": {
        "colab": {
          "base_uri": "https://localhost:8080/"
        },
        "id": "9NBzFKdDParz",
        "outputId": "5def2cd0-e293-420c-d472-9da5aa053afd"
      },
      "execution_count": 18,
      "outputs": [
        {
          "output_type": "stream",
          "name": "stdout",
          "text": [
            "ณิชากร 623020521-8\n"
          ]
        }
      ]
    },
    {
      "cell_type": "code",
      "source": [
        "print('ณิชากร','623020521-8',sep='&')"
      ],
      "metadata": {
        "colab": {
          "base_uri": "https://localhost:8080/"
        },
        "id": "pnpPCImUPmy7",
        "outputId": "3d67ab9f-f8e4-4f03-bc0f-bed158f6114a"
      },
      "execution_count": 19,
      "outputs": [
        {
          "output_type": "stream",
          "name": "stdout",
          "text": [
            "ณิชากร&623020521-8\n"
          ]
        }
      ]
    },
    {
      "cell_type": "markdown",
      "source": [
        "## input ของ function แบ่งเป็น 2 ชนิด (จำเป็นต้องใส่ กับ ไม่จำเป็นต้องใส่)"
      ],
      "metadata": {
        "id": "hoUipeXpOu9o"
      }
    },
    {
      "cell_type": "markdown",
      "source": [
        "ตัวอย่าง function `print_grade()`มี input 3 ตัว จำเป็นต้องใส่ 2 ตัว คือ name id และไม่จำเป็นต้องใส่ 1 ตัว คือเกรด ซึ่งมีค่า default เป็น A"
      ],
      "metadata": {
        "id": "VXJPN3KnRBgC"
      }
    },
    {
      "cell_type": "code",
      "source": [
        "def print_grade(name,id,grade = 'A'):\n",
        "    print(f'รหัสประจำตัว {id} ชื่อ {name}')\n",
        "    print (f'ได้เกรด {grade}') "
      ],
      "metadata": {
        "id": "RniqX52aQXDO"
      },
      "execution_count": 20,
      "outputs": []
    },
    {
      "cell_type": "code",
      "source": [
        "print_grade('ณิชากร','623020521-8')"
      ],
      "metadata": {
        "colab": {
          "base_uri": "https://localhost:8080/"
        },
        "id": "8xFSC9YNQW_z",
        "outputId": "3db04623-796a-4c67-90ac-b3f06a4b0f4d"
      },
      "execution_count": 21,
      "outputs": [
        {
          "output_type": "stream",
          "name": "stdout",
          "text": [
            "รหัสประจำตัว 623020521-8 ชื่อ ณิชากร\n",
            "ได้เกรด A\n"
          ]
        }
      ]
    },
    {
      "cell_type": "code",
      "source": [
        "print_grade('ณิชากร','623020521-8','A+')"
      ],
      "metadata": {
        "colab": {
          "base_uri": "https://localhost:8080/"
        },
        "id": "fgMTaBzFQW9f",
        "outputId": "02675cd0-46d1-44fa-9a10-da868ea518b2"
      },
      "execution_count": 22,
      "outputs": [
        {
          "output_type": "stream",
          "name": "stdout",
          "text": [
            "รหัสประจำตัว 623020521-8 ชื่อ ณิชากร\n",
            "ได้เกรด A+\n"
          ]
        }
      ]
    },
    {
      "cell_type": "code",
      "source": [
        "print_grade(id='623020521-8',name='ณิชากร',grade='B+')"
      ],
      "metadata": {
        "colab": {
          "base_uri": "https://localhost:8080/"
        },
        "id": "TLwaojbuQW60",
        "outputId": "07e443a5-95e2-4847-f225-ba9bde8d1ec0"
      },
      "execution_count": 23,
      "outputs": [
        {
          "output_type": "stream",
          "name": "stdout",
          "text": [
            "รหัสประจำตัว 623020521-8 ชื่อ ณิชากร\n",
            "ได้เกรด B+\n"
          ]
        }
      ]
    },
    {
      "cell_type": "code",
      "source": [
        ""
      ],
      "metadata": {
        "id": "kWgJwuvhQWuS"
      },
      "execution_count": null,
      "outputs": []
    },
    {
      "cell_type": "markdown",
      "source": [
        "#Looping (for)"
      ],
      "metadata": {
        "id": "t2uw8O9QD6ZN"
      }
    },
    {
      "cell_type": "markdown",
      "source": [
        "#Conditional Statement (if)"
      ],
      "metadata": {
        "id": "9I-Kg-HzEARf"
      }
    },
    {
      "cell_type": "code",
      "execution_count": null,
      "metadata": {
        "id": "w5E-7k2tDZ4A"
      },
      "outputs": [],
      "source": [
        ""
      ]
    }
  ]
}