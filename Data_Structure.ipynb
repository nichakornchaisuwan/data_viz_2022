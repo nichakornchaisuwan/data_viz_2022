{
  "nbformat": 4,
  "nbformat_minor": 0,
  "metadata": {
    "colab": {
      "name": "Data Structure.ipynb",
      "provenance": [],
      "authorship_tag": "ABX9TyMjmkx5v8h54jqOuG4CL8us",
      "include_colab_link": true
    },
    "kernelspec": {
      "name": "python3",
      "display_name": "Python 3"
    },
    "language_info": {
      "name": "python"
    }
  },
  "cells": [
    {
      "cell_type": "markdown",
      "metadata": {
        "id": "view-in-github",
        "colab_type": "text"
      },
      "source": [
        "<a href=\"https://colab.research.google.com/github/nichakornchaisuwan/data_viz_2022/blob/main/Data_Structure.ipynb\" target=\"_parent\"><img src=\"https://colab.research.google.com/assets/colab-badge.svg\" alt=\"Open In Colab\"/></a>"
      ]
    },
    {
      "cell_type": "markdown",
      "source": [
        "#Data Structure (โครงสร้างข้อมูล)\n",
        "การเก็บข้อมูลหลายๆ ตัวไว้ด้วยกันอย่างเป็นระเบียบ"
      ],
      "metadata": {
        "id": "pkTS-NnPzM5G"
      }
    },
    {
      "cell_type": "markdown",
      "source": [
        "##`list()`\n",
        "* เก็บอะไรก็ได้\n",
        "* ลำดับในการเก็บ มีความสำคัญ"
      ],
      "metadata": {
        "id": "qNv70ffhznU7"
      }
    },
    {
      "cell_type": "code",
      "execution_count": 1,
      "metadata": {
        "id": "s1H5YSLlybuu"
      },
      "outputs": [],
      "source": [
        "list_a = [1,2,3,4,5,6] #[ ] square brackets"
      ]
    },
    {
      "cell_type": "code",
      "source": [
        "list_a"
      ],
      "metadata": {
        "colab": {
          "base_uri": "https://localhost:8080/"
        },
        "id": "gzg8ieQmz17J",
        "outputId": "24323faf-12ca-4e98-ca96-abfc2091fa3a"
      },
      "execution_count": 2,
      "outputs": [
        {
          "output_type": "execute_result",
          "data": {
            "text/plain": [
              "[1, 2, 3, 4, 5, 6]"
            ]
          },
          "metadata": {},
          "execution_count": 2
        }
      ]
    },
    {
      "cell_type": "code",
      "source": [
        "list_b = ['ab',2,3.14,list_a]"
      ],
      "metadata": {
        "id": "FncJr7ELz3rr"
      },
      "execution_count": 3,
      "outputs": []
    },
    {
      "cell_type": "code",
      "source": [
        "list_b"
      ],
      "metadata": {
        "colab": {
          "base_uri": "https://localhost:8080/"
        },
        "id": "qvu9UesP0Kpa",
        "outputId": "5676652a-2b4b-48c3-e107-86dc6d92a1d7"
      },
      "execution_count": 5,
      "outputs": [
        {
          "output_type": "execute_result",
          "data": {
            "text/plain": [
              "['ab', 2, 3.14, [1, 2, 3, 4, 5, 6]]"
            ]
          },
          "metadata": {},
          "execution_count": 5
        }
      ]
    },
    {
      "cell_type": "markdown",
      "source": [
        "### indexing การชี้สมาชิกใน list ด้วย เลขลำดับของ list"
      ],
      "metadata": {
        "id": "2vcJgcBF0uFg"
      }
    },
    {
      "cell_type": "code",
      "source": [
        "list_a[3]"
      ],
      "metadata": {
        "colab": {
          "base_uri": "https://localhost:8080/"
        },
        "id": "Pr3gvyM20NH9",
        "outputId": "f23a46d5-203d-4c0d-b28d-0241068dd3bf"
      },
      "execution_count": 6,
      "outputs": [
        {
          "output_type": "execute_result",
          "data": {
            "text/plain": [
              "4"
            ]
          },
          "metadata": {},
          "execution_count": 6
        }
      ]
    },
    {
      "cell_type": "code",
      "source": [
        "list_b[3]"
      ],
      "metadata": {
        "colab": {
          "base_uri": "https://localhost:8080/"
        },
        "id": "ky5Ar4_k0Xck",
        "outputId": "2df13c01-e38d-4497-dbb4-2441d13eb821"
      },
      "execution_count": 7,
      "outputs": [
        {
          "output_type": "execute_result",
          "data": {
            "text/plain": [
              "[1, 2, 3, 4, 5, 6]"
            ]
          },
          "metadata": {},
          "execution_count": 7
        }
      ]
    },
    {
      "cell_type": "code",
      "source": [
        "list_b[3][4]"
      ],
      "metadata": {
        "colab": {
          "base_uri": "https://localhost:8080/"
        },
        "id": "e7RrZl2E0esS",
        "outputId": "e9f9da0e-9163-44c8-f5e0-78c48cf53020"
      },
      "execution_count": 8,
      "outputs": [
        {
          "output_type": "execute_result",
          "data": {
            "text/plain": [
              "5"
            ]
          },
          "metadata": {},
          "execution_count": 8
        }
      ]
    },
    {
      "cell_type": "code",
      "source": [
        "list_a[6] # เป็นการชี้ที่ไม่ได้อยู่ใน list"
      ],
      "metadata": {
        "colab": {
          "base_uri": "https://localhost:8080/",
          "height": 167
        },
        "id": "Q1PMgBUM0prl",
        "outputId": "f0a78d00-bfde-4cbf-fba3-b430e0787df3"
      },
      "execution_count": 9,
      "outputs": [
        {
          "output_type": "error",
          "ename": "IndexError",
          "evalue": "ignored",
          "traceback": [
            "\u001b[0;31m---------------------------------------------------------------------------\u001b[0m",
            "\u001b[0;31mIndexError\u001b[0m                                Traceback (most recent call last)",
            "\u001b[0;32m<ipython-input-9-d6b61775e813>\u001b[0m in \u001b[0;36m<module>\u001b[0;34m()\u001b[0m\n\u001b[0;32m----> 1\u001b[0;31m \u001b[0mlist_a\u001b[0m\u001b[0;34m[\u001b[0m\u001b[0;36m6\u001b[0m\u001b[0;34m]\u001b[0m\u001b[0;34m\u001b[0m\u001b[0;34m\u001b[0m\u001b[0m\n\u001b[0m",
            "\u001b[0;31mIndexError\u001b[0m: list index out of range"
          ]
        }
      ]
    },
    {
      "cell_type": "code",
      "source": [
        "list_a[-1] # index -1 คือตัวสุดท้ายของ list"
      ],
      "metadata": {
        "colab": {
          "base_uri": "https://localhost:8080/"
        },
        "id": "qU2IZMTy05Zf",
        "outputId": "03a39403-8141-475f-97c2-e341a106558c"
      },
      "execution_count": 10,
      "outputs": [
        {
          "output_type": "execute_result",
          "data": {
            "text/plain": [
              "6"
            ]
          },
          "metadata": {},
          "execution_count": 10
        }
      ]
    },
    {
      "cell_type": "code",
      "source": [
        "list_a[-4]"
      ],
      "metadata": {
        "colab": {
          "base_uri": "https://localhost:8080/"
        },
        "id": "MT-l1j-L1IeD",
        "outputId": "3836b649-a429-4648-a138-3f5887e28f46"
      },
      "execution_count": 11,
      "outputs": [
        {
          "output_type": "execute_result",
          "data": {
            "text/plain": [
              "3"
            ]
          },
          "metadata": {},
          "execution_count": 11
        }
      ]
    },
    {
      "cell_type": "markdown",
      "source": [
        "### การสร้าง list()"
      ],
      "metadata": {
        "id": "vZvj1Un81aMO"
      }
    },
    {
      "cell_type": "code",
      "source": [
        "list_x1 = [] #แบบที่ 1\n",
        "list_x2 = list() # แบบที่ 2"
      ],
      "metadata": {
        "id": "J11xUYvM1W8v"
      },
      "execution_count": 12,
      "outputs": []
    },
    {
      "cell_type": "code",
      "source": [
        "print (list_x1)\n",
        "print(list_x2)"
      ],
      "metadata": {
        "colab": {
          "base_uri": "https://localhost:8080/"
        },
        "id": "Jt_-ZT5f1swz",
        "outputId": "96cc1024-f7be-4a82-9fcc-711bf3add965"
      },
      "execution_count": 13,
      "outputs": [
        {
          "output_type": "stream",
          "name": "stdout",
          "text": [
            "[]\n",
            "[]\n"
          ]
        }
      ]
    },
    {
      "cell_type": "markdown",
      "source": [
        "### เพิ่มสมาชิดเข้าไปใน list ด้วย `append`"
      ],
      "metadata": {
        "id": "agUBjyc112_U"
      }
    },
    {
      "cell_type": "code",
      "source": [
        "list_x1.append(2)"
      ],
      "metadata": {
        "id": "iO19tJw-115U"
      },
      "execution_count": 14,
      "outputs": []
    },
    {
      "cell_type": "code",
      "source": [
        "list_x1"
      ],
      "metadata": {
        "colab": {
          "base_uri": "https://localhost:8080/"
        },
        "id": "DKAsfmMG2Qxv",
        "outputId": "4da0a81e-02f9-43ce-a75a-4f430eeb4154"
      },
      "execution_count": 15,
      "outputs": [
        {
          "output_type": "execute_result",
          "data": {
            "text/plain": [
              "[2]"
            ]
          },
          "metadata": {},
          "execution_count": 15
        }
      ]
    },
    {
      "cell_type": "code",
      "source": [
        "list_x1.append(4)\n",
        "print(list_x1)"
      ],
      "metadata": {
        "colab": {
          "base_uri": "https://localhost:8080/"
        },
        "id": "NlSgg5lY2Sz9",
        "outputId": "5b21d32f-47cf-4787-9c90-826e55ddf5fc"
      },
      "execution_count": 16,
      "outputs": [
        {
          "output_type": "stream",
          "name": "stdout",
          "text": [
            "[2, 4]\n"
          ]
        }
      ]
    },
    {
      "cell_type": "code",
      "source": [
        "list_x1[0]"
      ],
      "metadata": {
        "colab": {
          "base_uri": "https://localhost:8080/"
        },
        "id": "mlQeAYQp2e-F",
        "outputId": "45cdff0e-d383-4ac2-a8a2-cfbb4f6369d9"
      },
      "execution_count": 17,
      "outputs": [
        {
          "output_type": "execute_result",
          "data": {
            "text/plain": [
              "2"
            ]
          },
          "metadata": {},
          "execution_count": 17
        }
      ]
    },
    {
      "cell_type": "code",
      "source": [
        "list_x1[-1]"
      ],
      "metadata": {
        "colab": {
          "base_uri": "https://localhost:8080/"
        },
        "id": "8QhEo8OU2o93",
        "outputId": "cd6a702d-7d24-48e7-e739-7fc89fa8f3fe"
      },
      "execution_count": 18,
      "outputs": [
        {
          "output_type": "execute_result",
          "data": {
            "text/plain": [
              "4"
            ]
          },
          "metadata": {},
          "execution_count": 18
        }
      ]
    },
    {
      "cell_type": "code",
      "source": [
        "list_x2"
      ],
      "metadata": {
        "colab": {
          "base_uri": "https://localhost:8080/"
        },
        "id": "Wx3nm8XW2tu-",
        "outputId": "23524c99-a3c4-441d-950b-cdea8f82418b"
      },
      "execution_count": 19,
      "outputs": [
        {
          "output_type": "execute_result",
          "data": {
            "text/plain": [
              "[]"
            ]
          },
          "metadata": {},
          "execution_count": 19
        }
      ]
    },
    {
      "cell_type": "code",
      "source": [
        "list_x2.append('ha')"
      ],
      "metadata": {
        "id": "rrNVHuu6258L"
      },
      "execution_count": 58,
      "outputs": []
    },
    {
      "cell_type": "code",
      "source": [
        "list_x2"
      ],
      "metadata": {
        "colab": {
          "base_uri": "https://localhost:8080/"
        },
        "id": "LJ1e9WSK3bri",
        "outputId": "94acd950-7c09-4318-8c7a-393014c682f1"
      },
      "execution_count": 59,
      "outputs": [
        {
          "output_type": "execute_result",
          "data": {
            "text/plain": [
              "['ha', 'ha']"
            ]
          },
          "metadata": {},
          "execution_count": 59
        }
      ]
    },
    {
      "cell_type": "markdown",
      "source": [
        "### ลบสมาชิกจาก list"
      ],
      "metadata": {
        "id": "jhz9IxDO3rpa"
      }
    },
    {
      "cell_type": "code",
      "source": [
        "list_x1.append('ha') # กดซ้ำ โปรแกรมจะรันค่าซ้ำคำสั่งเดิม"
      ],
      "metadata": {
        "id": "uFP-RImf3mnm"
      },
      "execution_count": 48,
      "outputs": []
    },
    {
      "cell_type": "code",
      "source": [
        "list_x1 # แสดงผลลัพธ์ที่รันข้างบน"
      ],
      "metadata": {
        "colab": {
          "base_uri": "https://localhost:8080/"
        },
        "id": "WZlLZFjT35PZ",
        "outputId": "305b2c82-39e9-4152-8ff7-a6c240458110"
      },
      "execution_count": 49,
      "outputs": [
        {
          "output_type": "execute_result",
          "data": {
            "text/plain": [
              "[2, 4, 'ha', 'ha']"
            ]
          },
          "metadata": {},
          "execution_count": 49
        }
      ]
    },
    {
      "cell_type": "code",
      "source": [
        "list_x1.pop() # pop คือการลบตัวที่อยู่ใน list โดยการลบตัวที่อยู่ท้ายสุดก่อน (ผลรันของคำสั่งนี้จะแสดงตัวที่จะลบออกไปจาก list )"
      ],
      "metadata": {
        "colab": {
          "base_uri": "https://localhost:8080/",
          "height": 35
        },
        "id": "tR4ZAfBe37lF",
        "outputId": "dd043816-b4c7-49ee-864d-ac86e2eaef66"
      },
      "execution_count": 50,
      "outputs": [
        {
          "output_type": "execute_result",
          "data": {
            "application/vnd.google.colaboratory.intrinsic+json": {
              "type": "string"
            },
            "text/plain": [
              "'ha'"
            ]
          },
          "metadata": {},
          "execution_count": 50
        }
      ]
    },
    {
      "cell_type": "code",
      "source": [
        "list_x1"
      ],
      "metadata": {
        "colab": {
          "base_uri": "https://localhost:8080/"
        },
        "id": "rP-mYn4v394y",
        "outputId": "38b21a32-7dbc-4d91-c4a2-c9eb4d6baba6"
      },
      "execution_count": 51,
      "outputs": [
        {
          "output_type": "execute_result",
          "data": {
            "text/plain": [
              "[2, 4, 'ha']"
            ]
          },
          "metadata": {},
          "execution_count": 51
        }
      ]
    },
    {
      "cell_type": "code",
      "source": [
        "list_x1.pop() # .pop() หากกดซ้ำจะเป็นการลบตัวที่อยู่ใน list ไปเรื่อยๆ\n",
        "list_x1"
      ],
      "metadata": {
        "colab": {
          "base_uri": "https://localhost:8080/"
        },
        "id": "Jp4CpMxB3_vD",
        "outputId": "aa06139b-e82a-484f-e4dc-5434d1dbb97d"
      },
      "execution_count": 52,
      "outputs": [
        {
          "output_type": "execute_result",
          "data": {
            "text/plain": [
              "[2, 4]"
            ]
          },
          "metadata": {},
          "execution_count": 52
        }
      ]
    },
    {
      "cell_type": "code",
      "source": [
        "list_x2.pop()\n",
        "list_x2"
      ],
      "metadata": {
        "colab": {
          "base_uri": "https://localhost:8080/"
        },
        "id": "N9KomuS54Btp",
        "outputId": "6ffb9d1d-6f19-48a6-93e5-a7f028b11ec7"
      },
      "execution_count": 60,
      "outputs": [
        {
          "output_type": "execute_result",
          "data": {
            "text/plain": [
              "['ha']"
            ]
          },
          "metadata": {},
          "execution_count": 60
        }
      ]
    },
    {
      "cell_type": "markdown",
      "source": [
        "### `len()` ตรวจสอบจำนวนสมาชิกของ list"
      ],
      "metadata": {
        "id": "kibJZHHk4M1s"
      }
    },
    {
      "cell_type": "code",
      "source": [
        " print(list_b) \n",
        "print(len(list_b))"
      ],
      "metadata": {
        "colab": {
          "base_uri": "https://localhost:8080/"
        },
        "id": "qn61YmRu4LBW",
        "outputId": "97fcdc9d-338e-4229-f37d-99ef21cc3ea1"
      },
      "execution_count": 61,
      "outputs": [
        {
          "output_type": "stream",
          "name": "stdout",
          "text": [
            "['ab', 2, 3.14, [1, 2, 3, 4, 5, 6]]\n",
            "4\n"
          ]
        }
      ]
    },
    {
      "cell_type": "code",
      "source": [
        "print(len(list_a))"
      ],
      "metadata": {
        "colab": {
          "base_uri": "https://localhost:8080/"
        },
        "id": "fTizOG5O4QTn",
        "outputId": "956d5460-c218-4291-ee17-1a69fd2279fc"
      },
      "execution_count": 62,
      "outputs": [
        {
          "output_type": "stream",
          "name": "stdout",
          "text": [
            "6\n"
          ]
        }
      ]
    },
    {
      "cell_type": "markdown",
      "source": [
        "### String is a list of characters"
      ],
      "metadata": {
        "id": "VnocJvLJ4USk"
      }
    },
    {
      "cell_type": "code",
      "source": [
        "st_stat = 'Department of Statistics,Faculty of  Science'"
      ],
      "metadata": {
        "id": "nL35FcMy4SM0"
      },
      "execution_count": 63,
      "outputs": []
    },
    {
      "cell_type": "code",
      "source": [
        "st_stat[10] # อยากได้สมาชิกตัวที่ 10 ของ string"
      ],
      "metadata": {
        "colab": {
          "base_uri": "https://localhost:8080/",
          "height": 35
        },
        "id": "mqTeB3ra4WmY",
        "outputId": "6096914f-d8a1-4a5e-9b53-f7be7d90bbc5"
      },
      "execution_count": 64,
      "outputs": [
        {
          "output_type": "execute_result",
          "data": {
            "application/vnd.google.colaboratory.intrinsic+json": {
              "type": "string"
            },
            "text/plain": [
              "' '"
            ]
          },
          "metadata": {},
          "execution_count": 64
        }
      ]
    },
    {
      "cell_type": "code",
      "source": [
        "len(st_stat) #ดูความยาวของ string"
      ],
      "metadata": {
        "colab": {
          "base_uri": "https://localhost:8080/"
        },
        "id": "4YKjQQ_Z4YV_",
        "outputId": "a2b22471-338f-485f-a10c-a96538ae4003"
      },
      "execution_count": 65,
      "outputs": [
        {
          "output_type": "execute_result",
          "data": {
            "text/plain": [
              "44"
            ]
          },
          "metadata": {},
          "execution_count": 65
        }
      ]
    },
    {
      "cell_type": "markdown",
      "source": [
        "### List Slicing `:`"
      ],
      "metadata": {
        "id": "jOEv7Kto7pQ7"
      }
    },
    {
      "cell_type": "markdown",
      "source": [
        "`List[จุดเริ่มต้น (ทึบ):จุดสุดท้าย (โปร่ง)]`\n",
        "\n",
        "`List[จุดเริ่มต้น (ทึบ):จุดสุดท้าย (โปร่ง):step]`"
      ],
      "metadata": {
        "id": "P2gckJJJ8QC_"
      }
    },
    {
      "cell_type": "markdown",
      "source": [
        "![image.png](data:image/png;base64,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)"
      ],
      "metadata": {
        "id": "Pe3rLPHq9UKi"
      }
    },
    {
      "cell_type": "code",
      "source": [
        "list_a"
      ],
      "metadata": {
        "colab": {
          "base_uri": "https://localhost:8080/"
        },
        "id": "c18-qgVj4aDf",
        "outputId": "1013400a-7344-4fbe-f8ca-93108050044a"
      },
      "execution_count": 66,
      "outputs": [
        {
          "output_type": "execute_result",
          "data": {
            "text/plain": [
              "[1, 2, 3, 4, 5, 6]"
            ]
          },
          "metadata": {},
          "execution_count": 66
        }
      ]
    },
    {
      "cell_type": "code",
      "source": [
        "list_a[2]"
      ],
      "metadata": {
        "colab": {
          "base_uri": "https://localhost:8080/"
        },
        "id": "sQIYEdj174Vo",
        "outputId": "86de351d-2617-409b-9349-49f858e763ed"
      },
      "execution_count": 67,
      "outputs": [
        {
          "output_type": "execute_result",
          "data": {
            "text/plain": [
              "3"
            ]
          },
          "metadata": {},
          "execution_count": 67
        }
      ]
    },
    {
      "cell_type": "markdown",
      "source": [
        "#### `:` colon"
      ],
      "metadata": {
        "id": "d0Psm-Mf_LRP"
      }
    },
    {
      "cell_type": "code",
      "source": [
        "list_a[-3:] # : colon  เริ่มต้นจากตัวที่ -3 จนถึงตัวสุดท้าย"
      ],
      "metadata": {
        "colab": {
          "base_uri": "https://localhost:8080/"
        },
        "id": "uzbPJn_R77cq",
        "outputId": "9dcb8501-5552-4c79-ca05-067b64d7e8b2"
      },
      "execution_count": 68,
      "outputs": [
        {
          "output_type": "execute_result",
          "data": {
            "text/plain": [
              "[4, 5, 6]"
            ]
          },
          "metadata": {},
          "execution_count": 68
        }
      ]
    },
    {
      "cell_type": "code",
      "source": [
        "list_a[:4] # ตัวสุดท้ายคือเอาตัวก่อนหน้าที่กำหนด"
      ],
      "metadata": {
        "colab": {
          "base_uri": "https://localhost:8080/"
        },
        "id": "UVfPmW5g8JAS",
        "outputId": "8bb64f66-d2dc-44e9-cce6-e362b14ce886"
      },
      "execution_count": 70,
      "outputs": [
        {
          "output_type": "execute_result",
          "data": {
            "text/plain": [
              "[1, 2, 3, 4]"
            ]
          },
          "metadata": {},
          "execution_count": 70
        }
      ]
    },
    {
      "cell_type": "code",
      "source": [
        "list_a[1:4]"
      ],
      "metadata": {
        "colab": {
          "base_uri": "https://localhost:8080/"
        },
        "id": "V-JgiSgN-Ftt",
        "outputId": "75b64116-e4ff-434d-d386-9f3c84c333aa"
      },
      "execution_count": 72,
      "outputs": [
        {
          "output_type": "execute_result",
          "data": {
            "text/plain": [
              "[2, 3, 4]"
            ]
          },
          "metadata": {},
          "execution_count": 72
        }
      ]
    },
    {
      "cell_type": "code",
      "source": [
        "list_a[:] #เอาทุกตัว"
      ],
      "metadata": {
        "colab": {
          "base_uri": "https://localhost:8080/"
        },
        "id": "GSZZ2mxd-jMX",
        "outputId": "d5d857a2-2687-45e3-cf1b-7e887d818793"
      },
      "execution_count": 73,
      "outputs": [
        {
          "output_type": "execute_result",
          "data": {
            "text/plain": [
              "[1, 2, 3, 4, 5, 6]"
            ]
          },
          "metadata": {},
          "execution_count": 73
        }
      ]
    },
    {
      "cell_type": "markdown",
      "source": [
        "#### step"
      ],
      "metadata": {
        "id": "lQwMKP8y-2ph"
      }
    },
    {
      "cell_type": "code",
      "source": [
        "list_c = [1,2,3,4,5,6,7,8,9,10,11,12,13]"
      ],
      "metadata": {
        "id": "RsS5lwOC-xAw"
      },
      "execution_count": 74,
      "outputs": []
    },
    {
      "cell_type": "code",
      "source": [
        "list_c[:10:]"
      ],
      "metadata": {
        "colab": {
          "base_uri": "https://localhost:8080/"
        },
        "id": "7BDfhw8m_dx9",
        "outputId": "9658d4f5-950d-4fed-9bc7-c561a4bdadb8"
      },
      "execution_count": 76,
      "outputs": [
        {
          "output_type": "execute_result",
          "data": {
            "text/plain": [
              "[1, 2, 3, 4, 5, 6, 7, 8, 9, 10]"
            ]
          },
          "metadata": {},
          "execution_count": 76
        }
      ]
    },
    {
      "cell_type": "code",
      "source": [
        "list_c[:10:2] #การกระโดน"
      ],
      "metadata": {
        "colab": {
          "base_uri": "https://localhost:8080/"
        },
        "id": "DDGNLcJ4_llw",
        "outputId": "0fd768f0-a50f-466a-bf46-2de21cf77439"
      },
      "execution_count": 77,
      "outputs": [
        {
          "output_type": "execute_result",
          "data": {
            "text/plain": [
              "[1, 3, 5, 7, 9]"
            ]
          },
          "metadata": {},
          "execution_count": 77
        }
      ]
    },
    {
      "cell_type": "code",
      "source": [
        "list_c[::-1]"
      ],
      "metadata": {
        "colab": {
          "base_uri": "https://localhost:8080/"
        },
        "id": "IB5vWAe5_xc5",
        "outputId": "b878deb1-98ba-4a5a-83f6-1408647abdcc"
      },
      "execution_count": 80,
      "outputs": [
        {
          "output_type": "execute_result",
          "data": {
            "text/plain": [
              "[13, 12, 11, 10, 9, 8, 7, 6, 5, 4, 3, 2, 1]"
            ]
          },
          "metadata": {},
          "execution_count": 80
        }
      ]
    },
    {
      "cell_type": "markdown",
      "source": [
        "### `range()`"
      ],
      "metadata": {
        "id": "1qtDJP5BAQc9"
      }
    },
    {
      "cell_type": "code",
      "source": [
        "range(21) #จะเป็นจาก 0-20"
      ],
      "metadata": {
        "colab": {
          "base_uri": "https://localhost:8080/"
        },
        "id": "YjmS_UMA_9vZ",
        "outputId": "aaf816e6-676c-48ee-cfbc-653ab73e1220"
      },
      "execution_count": 81,
      "outputs": [
        {
          "output_type": "execute_result",
          "data": {
            "text/plain": [
              "range(0, 21)"
            ]
          },
          "metadata": {},
          "execution_count": 81
        }
      ]
    },
    {
      "cell_type": "code",
      "source": [
        "a = list(range(21))"
      ],
      "metadata": {
        "id": "SYyQDCsiAhta"
      },
      "execution_count": 83,
      "outputs": []
    },
    {
      "cell_type": "code",
      "source": [
        "a"
      ],
      "metadata": {
        "colab": {
          "base_uri": "https://localhost:8080/"
        },
        "id": "h0w29_oaAj4N",
        "outputId": "045433d4-00c6-4720-aa64-d4c4988fad1a"
      },
      "execution_count": 84,
      "outputs": [
        {
          "output_type": "execute_result",
          "data": {
            "text/plain": [
              "[0, 1, 2, 3, 4, 5, 6, 7, 8, 9, 10, 11, 12, 13, 14, 15, 16, 17, 18, 19, 20]"
            ]
          },
          "metadata": {},
          "execution_count": 84
        }
      ]
    },
    {
      "cell_type": "code",
      "source": [
        "list(range(1,21)) #กำหนดว่าจาก 1-21"
      ],
      "metadata": {
        "colab": {
          "base_uri": "https://localhost:8080/"
        },
        "id": "a2IaW5tYAlMC",
        "outputId": "06e7b027-96de-4033-bbfe-e8dd6120456a"
      },
      "execution_count": 85,
      "outputs": [
        {
          "output_type": "execute_result",
          "data": {
            "text/plain": [
              "[1, 2, 3, 4, 5, 6, 7, 8, 9, 10, 11, 12, 13, 14, 15, 16, 17, 18, 19, 20]"
            ]
          },
          "metadata": {},
          "execution_count": 85
        }
      ]
    },
    {
      "cell_type": "markdown",
      "source": [
        "###HW2 คำนวณเวลาเป็นวินาทีของเวลาต่อไปนี้โดยใช้คำสั่ง split() ช่วย (print ออกมาให้สวยงาม)\n",
        "\n",
        "* 12:30:15\n",
        "* 13:41:07\n",
        "* 09:11:50\n",
        "* 21:30:15\n",
        "* 03:10:15\n"
      ],
      "metadata": {
        "id": "xuUv-u1_BD5b"
      }
    },
    {
      "cell_type": "code",
      "source": [
        "#01:02:03\n",
        "\n",
        "a = (1*60*60) + (2*60) + 3\n",
        "print(f'01:02:03 แปลงเป็นวินาที ได้ {a} วินาที')"
      ],
      "metadata": {
        "colab": {
          "base_uri": "https://localhost:8080/"
        },
        "id": "W5iespBnBWz4",
        "outputId": "4edb8720-d64e-4c77-ccf5-1206969996b8"
      },
      "execution_count": 86,
      "outputs": [
        {
          "output_type": "stream",
          "name": "stdout",
          "text": [
            "01:02:03 แปลงเป็นวินาที ได้ 3723 วินาที\n"
          ]
        }
      ]
    },
    {
      "cell_type": "code",
      "source": [
        "#12:30:15\n",
        "\n",
        "hw_1 = (12*60*60) + (30*60) + 15\n",
        "print(f' เวลา 12:30:15 สามารถแปลงเป็นวินาทีได้เป็น {hw_1} วินาที')"
      ],
      "metadata": {
        "colab": {
          "base_uri": "https://localhost:8080/"
        },
        "id": "wygw1uTzCEzc",
        "outputId": "3fec4349-9f53-4ddd-eb45-7cc9d250eda3"
      },
      "execution_count": 87,
      "outputs": [
        {
          "output_type": "stream",
          "name": "stdout",
          "text": [
            " เวลา 12:30:15 สามารถแปลงเป็นวินาทีได้เป็น 45015 วินาที\n"
          ]
        }
      ]
    },
    {
      "cell_type": "code",
      "source": [
        "#13:41:07\n",
        "\n",
        "hw_2 = (13*60*60) + (41*60) + 7\n",
        "print(f' เวลา 13:41:07 สามารถแปลงเป็นวินาทีได้เป็น {hw_2} วินาที')"
      ],
      "metadata": {
        "colab": {
          "base_uri": "https://localhost:8080/"
        },
        "id": "CbXcmsnMCwZf",
        "outputId": "10f5f25b-a7bf-4dba-8866-ec2a900b3b11"
      },
      "execution_count": 88,
      "outputs": [
        {
          "output_type": "stream",
          "name": "stdout",
          "text": [
            " เวลา 13:41:07 สามารถแปลงเป็นวินาทีได้เป็น 49267 วินาที\n"
          ]
        }
      ]
    },
    {
      "cell_type": "code",
      "source": [
        "#09:11:50\n",
        "\n",
        "hw_3 = (9*60*60) + (11*60) + 50\n",
        "print(f' เวลา 09:11:50 สามารถแปลงเป็นวินาทีได้เป็น {hw_3} วินาที')"
      ],
      "metadata": {
        "colab": {
          "base_uri": "https://localhost:8080/"
        },
        "id": "MEEaSjy3C-PG",
        "outputId": "db518371-195b-4fb3-b789-dd2eb3bdaca8"
      },
      "execution_count": 89,
      "outputs": [
        {
          "output_type": "stream",
          "name": "stdout",
          "text": [
            " เวลา 09:11:50 สามารถแปลงเป็นวินาทีได้เป็น 33110 วินาที\n"
          ]
        }
      ]
    },
    {
      "cell_type": "code",
      "source": [
        "#21:30:15\n",
        "\n",
        "hw_4 = (21*60*60) + (30*60) + 15\n",
        "print(f' เวลา 21:30:15 สามารถแปลงเป็นวินาทีได้เป็น {hw_4} วินาที')"
      ],
      "metadata": {
        "colab": {
          "base_uri": "https://localhost:8080/"
        },
        "id": "rCiM98M8DDRg",
        "outputId": "603f15f1-23ff-4ef5-9e4b-60e08bdf99f2"
      },
      "execution_count": 90,
      "outputs": [
        {
          "output_type": "stream",
          "name": "stdout",
          "text": [
            " เวลา 21:30:15 สามารถแปลงเป็นวินาทีได้เป็น 77415 วินาที\n"
          ]
        }
      ]
    },
    {
      "cell_type": "code",
      "source": [
        "#03:10:15\n",
        "\n",
        "hw_5 = (3*60*60) + (10*60) + 15\n",
        "print(f' เวลา 03:10:15 สามารถแปลงเป็นวินาทีได้เป็น {hw_5} วินาที')"
      ],
      "metadata": {
        "colab": {
          "base_uri": "https://localhost:8080/"
        },
        "id": "5oxr92Z1DCn4",
        "outputId": "3f983914-e8bd-4391-cc6c-b1f98e210e34"
      },
      "execution_count": 91,
      "outputs": [
        {
          "output_type": "stream",
          "name": "stdout",
          "text": [
            " เวลา 03:10:15 สามารถแปลงเป็นวินาทีได้เป็น 11415 วินาที\n"
          ]
        }
      ]
    },
    {
      "cell_type": "code",
      "source": [
        ""
      ],
      "metadata": {
        "id": "9bLa0Z3ADpAU"
      },
      "execution_count": null,
      "outputs": []
    }
  ]
}