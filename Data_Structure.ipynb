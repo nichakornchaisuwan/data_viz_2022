{
  "nbformat": 4,
  "nbformat_minor": 0,
  "metadata": {
    "colab": {
      "name": "Data Structure.ipynb",
      "provenance": [],
      "authorship_tag": "ABX9TyPPSWNS9NBPQuJnSXWVOB57",
      "include_colab_link": true
    },
    "kernelspec": {
      "name": "python3",
      "display_name": "Python 3"
    },
    "language_info": {
      "name": "python"
    }
  },
  "cells": [
    {
      "cell_type": "markdown",
      "metadata": {
        "id": "view-in-github",
        "colab_type": "text"
      },
      "source": [
        "<a href=\"https://colab.research.google.com/github/nichakornchaisuwan/data_viz_2022/blob/main/Data_Structure.ipynb\" target=\"_parent\"><img src=\"https://colab.research.google.com/assets/colab-badge.svg\" alt=\"Open In Colab\"/></a>"
      ]
    },
    {
      "cell_type": "markdown",
      "source": [
        "#Data Structure (โครงสร้างข้อมูล)\n",
        "การเก็บข้อมูลหลายๆ ตัวไว้ด้วยกันอย่างเป็นระเบียบ"
      ],
      "metadata": {
        "id": "pkTS-NnPzM5G"
      }
    },
    {
      "cell_type": "markdown",
      "source": [
        "##`list()`\n",
        "* เก็บอะไรก็ได้\n",
        "* ลำดับในการเก็บ มีความสำคัญ"
      ],
      "metadata": {
        "id": "qNv70ffhznU7"
      }
    },
    {
      "cell_type": "code",
      "execution_count": 1,
      "metadata": {
        "id": "s1H5YSLlybuu"
      },
      "outputs": [],
      "source": [
        "list_a = [1,2,3,4,5,6] #[ ] square brackets"
      ]
    },
    {
      "cell_type": "code",
      "source": [
        "list_a"
      ],
      "metadata": {
        "colab": {
          "base_uri": "https://localhost:8080/"
        },
        "id": "gzg8ieQmz17J",
        "outputId": "9ce2fdf6-f934-4eb7-950f-d71ed2efe56a"
      },
      "execution_count": 2,
      "outputs": [
        {
          "output_type": "execute_result",
          "data": {
            "text/plain": [
              "[1, 2, 3, 4, 5, 6]"
            ]
          },
          "metadata": {},
          "execution_count": 2
        }
      ]
    },
    {
      "cell_type": "code",
      "source": [
        "list_b = ['ab',2,3.14,list_a]"
      ],
      "metadata": {
        "id": "FncJr7ELz3rr"
      },
      "execution_count": 3,
      "outputs": []
    },
    {
      "cell_type": "code",
      "source": [
        "list_b"
      ],
      "metadata": {
        "colab": {
          "base_uri": "https://localhost:8080/"
        },
        "id": "qvu9UesP0Kpa",
        "outputId": "91f108af-70d5-4499-856d-3d73c431e9ff"
      },
      "execution_count": 4,
      "outputs": [
        {
          "output_type": "execute_result",
          "data": {
            "text/plain": [
              "['ab', 2, 3.14, [1, 2, 3, 4, 5, 6]]"
            ]
          },
          "metadata": {},
          "execution_count": 4
        }
      ]
    },
    {
      "cell_type": "markdown",
      "source": [
        "### indexing การชี้สมาชิกใน list ด้วย เลขลำดับของ list"
      ],
      "metadata": {
        "id": "2vcJgcBF0uFg"
      }
    },
    {
      "cell_type": "code",
      "source": [
        "list_a[3]"
      ],
      "metadata": {
        "colab": {
          "base_uri": "https://localhost:8080/"
        },
        "id": "Pr3gvyM20NH9",
        "outputId": "092ad8b2-0252-410d-f26e-e283e026a479"
      },
      "execution_count": 5,
      "outputs": [
        {
          "output_type": "execute_result",
          "data": {
            "text/plain": [
              "4"
            ]
          },
          "metadata": {},
          "execution_count": 5
        }
      ]
    },
    {
      "cell_type": "code",
      "source": [
        "list_b[3]"
      ],
      "metadata": {
        "colab": {
          "base_uri": "https://localhost:8080/"
        },
        "id": "ky5Ar4_k0Xck",
        "outputId": "4ab3ff4c-7bd6-4c83-9f36-4b55336601df"
      },
      "execution_count": 6,
      "outputs": [
        {
          "output_type": "execute_result",
          "data": {
            "text/plain": [
              "[1, 2, 3, 4, 5, 6]"
            ]
          },
          "metadata": {},
          "execution_count": 6
        }
      ]
    },
    {
      "cell_type": "code",
      "source": [
        "list_b[3][4]"
      ],
      "metadata": {
        "colab": {
          "base_uri": "https://localhost:8080/"
        },
        "id": "e7RrZl2E0esS",
        "outputId": "8f64bc9d-a055-4e7c-b701-52b7930268a0"
      },
      "execution_count": 7,
      "outputs": [
        {
          "output_type": "execute_result",
          "data": {
            "text/plain": [
              "5"
            ]
          },
          "metadata": {},
          "execution_count": 7
        }
      ]
    },
    {
      "cell_type": "code",
      "source": [
        "list_a[6] # เป็นการชี้ที่ไม่ได้อยู่ใน list"
      ],
      "metadata": {
        "colab": {
          "base_uri": "https://localhost:8080/",
          "height": 167
        },
        "id": "Q1PMgBUM0prl",
        "outputId": "32f94276-3c62-41d5-ba7f-fdd1fd1f2548"
      },
      "execution_count": 8,
      "outputs": [
        {
          "output_type": "error",
          "ename": "IndexError",
          "evalue": "ignored",
          "traceback": [
            "\u001b[0;31m---------------------------------------------------------------------------\u001b[0m",
            "\u001b[0;31mIndexError\u001b[0m                                Traceback (most recent call last)",
            "\u001b[0;32m<ipython-input-8-ee3185ebb087>\u001b[0m in \u001b[0;36m<module>\u001b[0;34m()\u001b[0m\n\u001b[0;32m----> 1\u001b[0;31m \u001b[0mlist_a\u001b[0m\u001b[0;34m[\u001b[0m\u001b[0;36m6\u001b[0m\u001b[0;34m]\u001b[0m \u001b[0;31m# เป็นการชี้ที่ไม่ได้อยู่ใน list\u001b[0m\u001b[0;34m\u001b[0m\u001b[0;34m\u001b[0m\u001b[0m\n\u001b[0m",
            "\u001b[0;31mIndexError\u001b[0m: list index out of range"
          ]
        }
      ]
    },
    {
      "cell_type": "code",
      "source": [
        "list_a[-1] # index -1 คือตัวสุดท้ายของ list"
      ],
      "metadata": {
        "colab": {
          "base_uri": "https://localhost:8080/"
        },
        "id": "qU2IZMTy05Zf",
        "outputId": "b149aeee-679d-4b3d-c443-714f801f8451"
      },
      "execution_count": 10,
      "outputs": [
        {
          "output_type": "execute_result",
          "data": {
            "text/plain": [
              "6"
            ]
          },
          "metadata": {},
          "execution_count": 10
        }
      ]
    },
    {
      "cell_type": "code",
      "source": [
        "list_a[-4]"
      ],
      "metadata": {
        "colab": {
          "base_uri": "https://localhost:8080/"
        },
        "id": "MT-l1j-L1IeD",
        "outputId": "eb810c27-569f-4de9-9cab-214da7cad314"
      },
      "execution_count": 11,
      "outputs": [
        {
          "output_type": "execute_result",
          "data": {
            "text/plain": [
              "3"
            ]
          },
          "metadata": {},
          "execution_count": 11
        }
      ]
    },
    {
      "cell_type": "markdown",
      "source": [
        "### การสร้าง list()"
      ],
      "metadata": {
        "id": "vZvj1Un81aMO"
      }
    },
    {
      "cell_type": "code",
      "source": [
        "list_x1 = [] #แบบที่ 1\n",
        "list_x2 = list() # แบบที่ 2"
      ],
      "metadata": {
        "id": "J11xUYvM1W8v"
      },
      "execution_count": 12,
      "outputs": []
    },
    {
      "cell_type": "code",
      "source": [
        "print (list_x1)\n",
        "print(list_x2)"
      ],
      "metadata": {
        "colab": {
          "base_uri": "https://localhost:8080/"
        },
        "id": "Jt_-ZT5f1swz",
        "outputId": "82827b50-d9a3-4171-a464-7a27fef8f014"
      },
      "execution_count": 13,
      "outputs": [
        {
          "output_type": "stream",
          "name": "stdout",
          "text": [
            "[]\n",
            "[]\n"
          ]
        }
      ]
    },
    {
      "cell_type": "markdown",
      "source": [
        "### เพิ่มสมาชิดเข้าไปใน list ด้วย `append`"
      ],
      "metadata": {
        "id": "agUBjyc112_U"
      }
    },
    {
      "cell_type": "code",
      "source": [
        "list_x1.append(2)"
      ],
      "metadata": {
        "id": "iO19tJw-115U"
      },
      "execution_count": 14,
      "outputs": []
    },
    {
      "cell_type": "code",
      "source": [
        "list_x1"
      ],
      "metadata": {
        "colab": {
          "base_uri": "https://localhost:8080/"
        },
        "id": "DKAsfmMG2Qxv",
        "outputId": "4cce9030-bacb-44e9-867d-9078cbe7a2cb"
      },
      "execution_count": 15,
      "outputs": [
        {
          "output_type": "execute_result",
          "data": {
            "text/plain": [
              "[2]"
            ]
          },
          "metadata": {},
          "execution_count": 15
        }
      ]
    },
    {
      "cell_type": "code",
      "source": [
        "list_x1.append(4)\n",
        "print(list_x1)"
      ],
      "metadata": {
        "colab": {
          "base_uri": "https://localhost:8080/"
        },
        "id": "NlSgg5lY2Sz9",
        "outputId": "6dd2ec68-83a5-46e8-a4a6-de545d0b7893"
      },
      "execution_count": 16,
      "outputs": [
        {
          "output_type": "stream",
          "name": "stdout",
          "text": [
            "[2, 4]\n"
          ]
        }
      ]
    },
    {
      "cell_type": "code",
      "source": [
        "list_x1[0]"
      ],
      "metadata": {
        "colab": {
          "base_uri": "https://localhost:8080/"
        },
        "id": "mlQeAYQp2e-F",
        "outputId": "df954787-c569-4cf1-a6b3-5ed391937247"
      },
      "execution_count": 17,
      "outputs": [
        {
          "output_type": "execute_result",
          "data": {
            "text/plain": [
              "2"
            ]
          },
          "metadata": {},
          "execution_count": 17
        }
      ]
    },
    {
      "cell_type": "code",
      "source": [
        "list_x1[-1]"
      ],
      "metadata": {
        "colab": {
          "base_uri": "https://localhost:8080/"
        },
        "id": "8QhEo8OU2o93",
        "outputId": "7b65bf01-f31d-48f6-b486-970095b4ebb1"
      },
      "execution_count": 18,
      "outputs": [
        {
          "output_type": "execute_result",
          "data": {
            "text/plain": [
              "4"
            ]
          },
          "metadata": {},
          "execution_count": 18
        }
      ]
    },
    {
      "cell_type": "code",
      "source": [
        "list_x2"
      ],
      "metadata": {
        "colab": {
          "base_uri": "https://localhost:8080/"
        },
        "id": "Wx3nm8XW2tu-",
        "outputId": "9d78f86a-66c4-40bd-a1e7-7b6dd08987ba"
      },
      "execution_count": 19,
      "outputs": [
        {
          "output_type": "execute_result",
          "data": {
            "text/plain": [
              "[]"
            ]
          },
          "metadata": {},
          "execution_count": 19
        }
      ]
    },
    {
      "cell_type": "code",
      "source": [
        "list_x2.append('ha')"
      ],
      "metadata": {
        "id": "rrNVHuu6258L"
      },
      "execution_count": 20,
      "outputs": []
    },
    {
      "cell_type": "code",
      "source": [
        "list_x2"
      ],
      "metadata": {
        "colab": {
          "base_uri": "https://localhost:8080/"
        },
        "id": "LJ1e9WSK3bri",
        "outputId": "e2879e93-4818-4fc3-b9fa-54beeb1d91de"
      },
      "execution_count": 21,
      "outputs": [
        {
          "output_type": "execute_result",
          "data": {
            "text/plain": [
              "['ha']"
            ]
          },
          "metadata": {},
          "execution_count": 21
        }
      ]
    },
    {
      "cell_type": "markdown",
      "source": [
        "### ลบสมาชิกจาก list"
      ],
      "metadata": {
        "id": "jhz9IxDO3rpa"
      }
    },
    {
      "cell_type": "code",
      "source": [
        "list_x1.append('ha') # กดซ้ำ โปรแกรมจะรันค่าซ้ำคำสั่งเดิม"
      ],
      "metadata": {
        "id": "uFP-RImf3mnm"
      },
      "execution_count": 22,
      "outputs": []
    },
    {
      "cell_type": "code",
      "source": [
        "list_x1 # แสดงผลลัพธ์ที่รันข้างบน"
      ],
      "metadata": {
        "colab": {
          "base_uri": "https://localhost:8080/"
        },
        "id": "WZlLZFjT35PZ",
        "outputId": "39cb044f-0897-40c1-f42e-be26d4a46910"
      },
      "execution_count": 23,
      "outputs": [
        {
          "output_type": "execute_result",
          "data": {
            "text/plain": [
              "[2, 4, 'ha']"
            ]
          },
          "metadata": {},
          "execution_count": 23
        }
      ]
    },
    {
      "cell_type": "code",
      "source": [
        "list_x1.pop() # pop คือการลบตัวที่อยู่ใน list โดยการลบตัวที่อยู่ท้ายสุดก่อน (ผลรันของคำสั่งนี้จะแสดงตัวที่จะลบออกไปจาก list )"
      ],
      "metadata": {
        "colab": {
          "base_uri": "https://localhost:8080/",
          "height": 0
        },
        "id": "tR4ZAfBe37lF",
        "outputId": "becba265-41f5-4cd3-cf36-80e46f0c332b"
      },
      "execution_count": 24,
      "outputs": [
        {
          "output_type": "execute_result",
          "data": {
            "application/vnd.google.colaboratory.intrinsic+json": {
              "type": "string"
            },
            "text/plain": [
              "'ha'"
            ]
          },
          "metadata": {},
          "execution_count": 24
        }
      ]
    },
    {
      "cell_type": "code",
      "source": [
        "list_x1"
      ],
      "metadata": {
        "colab": {
          "base_uri": "https://localhost:8080/"
        },
        "id": "rP-mYn4v394y",
        "outputId": "1855b9cb-7187-47c3-dd47-afd76912906a"
      },
      "execution_count": 25,
      "outputs": [
        {
          "output_type": "execute_result",
          "data": {
            "text/plain": [
              "[2, 4]"
            ]
          },
          "metadata": {},
          "execution_count": 25
        }
      ]
    },
    {
      "cell_type": "code",
      "source": [
        "list_x1.pop() # .pop() หากกดซ้ำจะเป็นการลบตัวที่อยู่ใน list ไปเรื่อยๆ\n",
        "list_x1"
      ],
      "metadata": {
        "colab": {
          "base_uri": "https://localhost:8080/"
        },
        "id": "Jp4CpMxB3_vD",
        "outputId": "7e6a998a-3a19-4925-c43d-92f225c71a51"
      },
      "execution_count": 26,
      "outputs": [
        {
          "output_type": "execute_result",
          "data": {
            "text/plain": [
              "[2]"
            ]
          },
          "metadata": {},
          "execution_count": 26
        }
      ]
    },
    {
      "cell_type": "code",
      "source": [
        "list_x2.pop()\n",
        "list_x2"
      ],
      "metadata": {
        "colab": {
          "base_uri": "https://localhost:8080/"
        },
        "id": "N9KomuS54Btp",
        "outputId": "d2028e27-940a-4ab0-9b74-c1805001fd40"
      },
      "execution_count": 27,
      "outputs": [
        {
          "output_type": "execute_result",
          "data": {
            "text/plain": [
              "[]"
            ]
          },
          "metadata": {},
          "execution_count": 27
        }
      ]
    },
    {
      "cell_type": "markdown",
      "source": [
        "### `len()` ตรวจสอบจำนวนสมาชิกของ list"
      ],
      "metadata": {
        "id": "kibJZHHk4M1s"
      }
    },
    {
      "cell_type": "code",
      "source": [
        " print(list_b) \n",
        "print(len(list_b))"
      ],
      "metadata": {
        "colab": {
          "base_uri": "https://localhost:8080/"
        },
        "id": "qn61YmRu4LBW",
        "outputId": "cf5d6ead-e5ea-4401-cd81-cad42d248ca2"
      },
      "execution_count": 28,
      "outputs": [
        {
          "output_type": "stream",
          "name": "stdout",
          "text": [
            "['ab', 2, 3.14, [1, 2, 3, 4, 5, 6]]\n",
            "4\n"
          ]
        }
      ]
    },
    {
      "cell_type": "code",
      "source": [
        "print(len(list_a))"
      ],
      "metadata": {
        "colab": {
          "base_uri": "https://localhost:8080/"
        },
        "id": "fTizOG5O4QTn",
        "outputId": "26d188a3-db3f-41d0-a27c-20680f1932f1"
      },
      "execution_count": 29,
      "outputs": [
        {
          "output_type": "stream",
          "name": "stdout",
          "text": [
            "6\n"
          ]
        }
      ]
    },
    {
      "cell_type": "markdown",
      "source": [
        "### String is a list of characters"
      ],
      "metadata": {
        "id": "VnocJvLJ4USk"
      }
    },
    {
      "cell_type": "code",
      "source": [
        "st_stat = 'Department of Statistics,Faculty of  Science'"
      ],
      "metadata": {
        "id": "nL35FcMy4SM0"
      },
      "execution_count": 30,
      "outputs": []
    },
    {
      "cell_type": "code",
      "source": [
        "st_stat[10] # อยากได้สมาชิกตัวที่ 10 ของ string"
      ],
      "metadata": {
        "colab": {
          "base_uri": "https://localhost:8080/",
          "height": 0
        },
        "id": "mqTeB3ra4WmY",
        "outputId": "ed9d7459-7829-44dd-9657-dadfa9279322"
      },
      "execution_count": 31,
      "outputs": [
        {
          "output_type": "execute_result",
          "data": {
            "application/vnd.google.colaboratory.intrinsic+json": {
              "type": "string"
            },
            "text/plain": [
              "' '"
            ]
          },
          "metadata": {},
          "execution_count": 31
        }
      ]
    },
    {
      "cell_type": "code",
      "source": [
        "len(st_stat) #ดูความยาวของ string"
      ],
      "metadata": {
        "colab": {
          "base_uri": "https://localhost:8080/"
        },
        "id": "4YKjQQ_Z4YV_",
        "outputId": "6ace9bb9-4c0d-4481-df3f-69eaad4bac7a"
      },
      "execution_count": 32,
      "outputs": [
        {
          "output_type": "execute_result",
          "data": {
            "text/plain": [
              "44"
            ]
          },
          "metadata": {},
          "execution_count": 32
        }
      ]
    },
    {
      "cell_type": "markdown",
      "source": [
        "### List Slicing `:`"
      ],
      "metadata": {
        "id": "jOEv7Kto7pQ7"
      }
    },
    {
      "cell_type": "markdown",
      "source": [
        "`List[จุดเริ่มต้น (ทึบ):จุดสุดท้าย (โปร่ง)]`\n",
        "\n",
        "`List[จุดเริ่มต้น (ทึบ):จุดสุดท้าย (โปร่ง):step]`"
      ],
      "metadata": {
        "id": "P2gckJJJ8QC_"
      }
    },
    {
      "cell_type": "markdown",
      "source": [
        "![image.png](data:image/png;base64,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)"
      ],
      "metadata": {
        "id": "Pe3rLPHq9UKi"
      }
    },
    {
      "cell_type": "code",
      "source": [
        "list_a"
      ],
      "metadata": {
        "colab": {
          "base_uri": "https://localhost:8080/"
        },
        "id": "c18-qgVj4aDf",
        "outputId": "6cc6a395-1361-4743-d5f3-8e4ee076ede6"
      },
      "execution_count": 33,
      "outputs": [
        {
          "output_type": "execute_result",
          "data": {
            "text/plain": [
              "[1, 2, 3, 4, 5, 6]"
            ]
          },
          "metadata": {},
          "execution_count": 33
        }
      ]
    },
    {
      "cell_type": "code",
      "source": [
        "list_a[2]"
      ],
      "metadata": {
        "colab": {
          "base_uri": "https://localhost:8080/"
        },
        "id": "sQIYEdj174Vo",
        "outputId": "47183df5-c6a5-499b-c606-4bc881921dec"
      },
      "execution_count": 34,
      "outputs": [
        {
          "output_type": "execute_result",
          "data": {
            "text/plain": [
              "3"
            ]
          },
          "metadata": {},
          "execution_count": 34
        }
      ]
    },
    {
      "cell_type": "markdown",
      "source": [
        "#### `:` colon"
      ],
      "metadata": {
        "id": "d0Psm-Mf_LRP"
      }
    },
    {
      "cell_type": "code",
      "source": [
        "list_a[-3:] # : colon  เริ่มต้นจากตัวที่ -3 จนถึงตัวสุดท้าย"
      ],
      "metadata": {
        "colab": {
          "base_uri": "https://localhost:8080/"
        },
        "id": "uzbPJn_R77cq",
        "outputId": "eab98655-1c01-44d6-8c0a-29dcb7fd7c6e"
      },
      "execution_count": 35,
      "outputs": [
        {
          "output_type": "execute_result",
          "data": {
            "text/plain": [
              "[4, 5, 6]"
            ]
          },
          "metadata": {},
          "execution_count": 35
        }
      ]
    },
    {
      "cell_type": "code",
      "source": [
        "list_a[:4] # ตัวสุดท้ายคือเอาตัวก่อนหน้าที่กำหนด"
      ],
      "metadata": {
        "colab": {
          "base_uri": "https://localhost:8080/"
        },
        "id": "UVfPmW5g8JAS",
        "outputId": "87d4cf5b-08e2-449b-9c9e-e8c2f5c95689"
      },
      "execution_count": 36,
      "outputs": [
        {
          "output_type": "execute_result",
          "data": {
            "text/plain": [
              "[1, 2, 3, 4]"
            ]
          },
          "metadata": {},
          "execution_count": 36
        }
      ]
    },
    {
      "cell_type": "code",
      "source": [
        "list_a[1:4]"
      ],
      "metadata": {
        "colab": {
          "base_uri": "https://localhost:8080/"
        },
        "id": "V-JgiSgN-Ftt",
        "outputId": "f8cd6c53-a72d-4b74-ab61-51fb0c9e0154"
      },
      "execution_count": 37,
      "outputs": [
        {
          "output_type": "execute_result",
          "data": {
            "text/plain": [
              "[2, 3, 4]"
            ]
          },
          "metadata": {},
          "execution_count": 37
        }
      ]
    },
    {
      "cell_type": "code",
      "source": [
        "list_a[:] #เอาทุกตัว"
      ],
      "metadata": {
        "colab": {
          "base_uri": "https://localhost:8080/"
        },
        "id": "GSZZ2mxd-jMX",
        "outputId": "94d9e440-f6e6-4776-c5bf-4fda56ba0e63"
      },
      "execution_count": 38,
      "outputs": [
        {
          "output_type": "execute_result",
          "data": {
            "text/plain": [
              "[1, 2, 3, 4, 5, 6]"
            ]
          },
          "metadata": {},
          "execution_count": 38
        }
      ]
    },
    {
      "cell_type": "markdown",
      "source": [
        "#### step"
      ],
      "metadata": {
        "id": "lQwMKP8y-2ph"
      }
    },
    {
      "cell_type": "code",
      "source": [
        "list_c = [1,2,3,4,5,6,7,8,9,10,11,12,13]"
      ],
      "metadata": {
        "id": "RsS5lwOC-xAw"
      },
      "execution_count": 39,
      "outputs": []
    },
    {
      "cell_type": "code",
      "source": [
        "list_c[:10:]"
      ],
      "metadata": {
        "colab": {
          "base_uri": "https://localhost:8080/"
        },
        "id": "7BDfhw8m_dx9",
        "outputId": "d678cde3-e3d2-4bad-c0ca-3f24d98d398a"
      },
      "execution_count": 40,
      "outputs": [
        {
          "output_type": "execute_result",
          "data": {
            "text/plain": [
              "[1, 2, 3, 4, 5, 6, 7, 8, 9, 10]"
            ]
          },
          "metadata": {},
          "execution_count": 40
        }
      ]
    },
    {
      "cell_type": "code",
      "source": [
        "list_c[:10:2] #การกระโดน"
      ],
      "metadata": {
        "colab": {
          "base_uri": "https://localhost:8080/"
        },
        "id": "DDGNLcJ4_llw",
        "outputId": "eafcbc85-0fb7-4683-ffab-e894dcd56b79"
      },
      "execution_count": 41,
      "outputs": [
        {
          "output_type": "execute_result",
          "data": {
            "text/plain": [
              "[1, 3, 5, 7, 9]"
            ]
          },
          "metadata": {},
          "execution_count": 41
        }
      ]
    },
    {
      "cell_type": "code",
      "source": [
        "list_c[::-1]"
      ],
      "metadata": {
        "colab": {
          "base_uri": "https://localhost:8080/"
        },
        "id": "IB5vWAe5_xc5",
        "outputId": "45d51208-553b-4857-dea1-7c25c120a3bc"
      },
      "execution_count": 42,
      "outputs": [
        {
          "output_type": "execute_result",
          "data": {
            "text/plain": [
              "[13, 12, 11, 10, 9, 8, 7, 6, 5, 4, 3, 2, 1]"
            ]
          },
          "metadata": {},
          "execution_count": 42
        }
      ]
    },
    {
      "cell_type": "markdown",
      "source": [
        "### `range()`"
      ],
      "metadata": {
        "id": "1qtDJP5BAQc9"
      }
    },
    {
      "cell_type": "code",
      "source": [
        "range(21) #จะเป็นจาก 0-20"
      ],
      "metadata": {
        "colab": {
          "base_uri": "https://localhost:8080/"
        },
        "id": "YjmS_UMA_9vZ",
        "outputId": "80a40d18-351f-4b35-e521-5ccc6cd9f5fa"
      },
      "execution_count": 43,
      "outputs": [
        {
          "output_type": "execute_result",
          "data": {
            "text/plain": [
              "range(0, 21)"
            ]
          },
          "metadata": {},
          "execution_count": 43
        }
      ]
    },
    {
      "cell_type": "code",
      "source": [
        "a = list(range(21))"
      ],
      "metadata": {
        "id": "SYyQDCsiAhta"
      },
      "execution_count": 44,
      "outputs": []
    },
    {
      "cell_type": "code",
      "source": [
        "a"
      ],
      "metadata": {
        "colab": {
          "base_uri": "https://localhost:8080/"
        },
        "id": "h0w29_oaAj4N",
        "outputId": "c9b8832b-c41a-4e3f-d568-fdb430b9b6cf"
      },
      "execution_count": 45,
      "outputs": [
        {
          "output_type": "execute_result",
          "data": {
            "text/plain": [
              "[0, 1, 2, 3, 4, 5, 6, 7, 8, 9, 10, 11, 12, 13, 14, 15, 16, 17, 18, 19, 20]"
            ]
          },
          "metadata": {},
          "execution_count": 45
        }
      ]
    },
    {
      "cell_type": "code",
      "source": [
        "list(range(1,21)) #กำหนดว่าจาก 1-21"
      ],
      "metadata": {
        "colab": {
          "base_uri": "https://localhost:8080/"
        },
        "id": "a2IaW5tYAlMC",
        "outputId": "d723e4fa-9199-42e2-c08c-d70a2945d882"
      },
      "execution_count": 46,
      "outputs": [
        {
          "output_type": "execute_result",
          "data": {
            "text/plain": [
              "[1, 2, 3, 4, 5, 6, 7, 8, 9, 10, 11, 12, 13, 14, 15, 16, 17, 18, 19, 20]"
            ]
          },
          "metadata": {},
          "execution_count": 46
        }
      ]
    },
    {
      "cell_type": "markdown",
      "source": [
        "###HW2 คำนวณเวลาเป็นวินาทีของเวลาต่อไปนี้โดยใช้คำสั่ง split() ช่วย (print ออกมาให้สวยงาม)\n",
        "\n",
        "* 12:30:15\n",
        "* 13:41:07\n",
        "* 09:11:50\n",
        "* 21:30:15\n",
        "* 03:10:15\n"
      ],
      "metadata": {
        "id": "xuUv-u1_BD5b"
      }
    },
    {
      "cell_type": "code",
      "source": [
        "#01:02:03\n",
        "\n",
        "a = (1*60*60) + (2*60) + 3\n",
        "print(f'01:02:03 แปลงเป็นวินาที ได้ {a} วินาที')"
      ],
      "metadata": {
        "colab": {
          "base_uri": "https://localhost:8080/"
        },
        "id": "W5iespBnBWz4",
        "outputId": "2a17aa7c-330b-49d4-9c61-d9271a2313c8"
      },
      "execution_count": 47,
      "outputs": [
        {
          "output_type": "stream",
          "name": "stdout",
          "text": [
            "01:02:03 แปลงเป็นวินาที ได้ 3723 วินาที\n"
          ]
        }
      ]
    },
    {
      "cell_type": "code",
      "source": [
        "#12:30:15\n",
        "\n",
        "hw_1 = (12*60*60) + (30*60) + 15\n",
        "print(f' เวลา 12:30:15 สามารถแปลงเป็นวินาทีได้เป็น {hw_1} วินาที')"
      ],
      "metadata": {
        "colab": {
          "base_uri": "https://localhost:8080/"
        },
        "id": "wygw1uTzCEzc",
        "outputId": "2aead51d-8b4f-4902-9e6b-19e5e69b965a"
      },
      "execution_count": 48,
      "outputs": [
        {
          "output_type": "stream",
          "name": "stdout",
          "text": [
            " เวลา 12:30:15 สามารถแปลงเป็นวินาทีได้เป็น 45015 วินาที\n"
          ]
        }
      ]
    },
    {
      "cell_type": "code",
      "source": [
        "#13:41:07\n",
        "\n",
        "hw_2 = (13*60*60) + (41*60) + 7\n",
        "print(f' เวลา 13:41:07 สามารถแปลงเป็นวินาทีได้เป็น {hw_2} วินาที')"
      ],
      "metadata": {
        "colab": {
          "base_uri": "https://localhost:8080/"
        },
        "id": "CbXcmsnMCwZf",
        "outputId": "028812cd-21fb-4bec-a558-b7b1615fc5af"
      },
      "execution_count": 49,
      "outputs": [
        {
          "output_type": "stream",
          "name": "stdout",
          "text": [
            " เวลา 13:41:07 สามารถแปลงเป็นวินาทีได้เป็น 49267 วินาที\n"
          ]
        }
      ]
    },
    {
      "cell_type": "code",
      "source": [
        "#09:11:50\n",
        "\n",
        "hw_3 = (9*60*60) + (11*60) + 50\n",
        "print(f' เวลา 09:11:50 สามารถแปลงเป็นวินาทีได้เป็น {hw_3} วินาที')"
      ],
      "metadata": {
        "colab": {
          "base_uri": "https://localhost:8080/"
        },
        "id": "MEEaSjy3C-PG",
        "outputId": "49cd48e4-409d-4d6a-b416-511971584ec9"
      },
      "execution_count": 50,
      "outputs": [
        {
          "output_type": "stream",
          "name": "stdout",
          "text": [
            " เวลา 09:11:50 สามารถแปลงเป็นวินาทีได้เป็น 33110 วินาที\n"
          ]
        }
      ]
    },
    {
      "cell_type": "code",
      "source": [
        "#21:30:15\n",
        "\n",
        "hw_4 = (21*60*60) + (30*60) + 15\n",
        "print(f' เวลา 21:30:15 สามารถแปลงเป็นวินาทีได้เป็น {hw_4} วินาที')"
      ],
      "metadata": {
        "colab": {
          "base_uri": "https://localhost:8080/"
        },
        "id": "rCiM98M8DDRg",
        "outputId": "b127a417-5027-4bdd-b5c0-2d26c69e4b21"
      },
      "execution_count": 51,
      "outputs": [
        {
          "output_type": "stream",
          "name": "stdout",
          "text": [
            " เวลา 21:30:15 สามารถแปลงเป็นวินาทีได้เป็น 77415 วินาที\n"
          ]
        }
      ]
    },
    {
      "cell_type": "code",
      "source": [
        "#03:10:15\n",
        "\n",
        "hw_5 = (3*60*60) + (10*60) + 15\n",
        "print(f' เวลา 03:10:15 สามารถแปลงเป็นวินาทีได้เป็น {hw_5} วินาที')"
      ],
      "metadata": {
        "colab": {
          "base_uri": "https://localhost:8080/"
        },
        "id": "5oxr92Z1DCn4",
        "outputId": "2da85c18-a07a-4bdb-c590-24bd3513fd08"
      },
      "execution_count": 52,
      "outputs": [
        {
          "output_type": "stream",
          "name": "stdout",
          "text": [
            " เวลา 03:10:15 สามารถแปลงเป็นวินาทีได้เป็น 11415 วินาที\n"
          ]
        }
      ]
    },
    {
      "cell_type": "markdown",
      "source": [
        "### Dictionary"
      ],
      "metadata": {
        "id": "reiPAUyPOn9q"
      }
    },
    {
      "cell_type": "markdown",
      "source": [
        "- คล้าย list()\n",
        "- index เป็นอะไรก็ได้ ไม่จำเป็นต้องเป็นตัวเลขลำดับ\n",
        "-ลำดับไม่มีความสำคัญ"
      ],
      "metadata": {
        "id": "R3AtkmB0PPXy"
      }
    },
    {
      "cell_type": "code",
      "source": [
        "dict_a = {1:'Happy','N': 'New','2022':'Year'} # { } curly brackets "
      ],
      "metadata": {
        "id": "ZvQH-Xu0PBcH"
      },
      "execution_count": 53,
      "outputs": []
    },
    {
      "cell_type": "code",
      "source": [
        "dict_a[1]"
      ],
      "metadata": {
        "id": "T_POxOF1Qd_j",
        "outputId": "094aee70-5be3-41e6-a7cd-a4443ca82e6d",
        "colab": {
          "base_uri": "https://localhost:8080/",
          "height": 0
        }
      },
      "execution_count": 54,
      "outputs": [
        {
          "output_type": "execute_result",
          "data": {
            "application/vnd.google.colaboratory.intrinsic+json": {
              "type": "string"
            },
            "text/plain": [
              "'Happy'"
            ]
          },
          "metadata": {},
          "execution_count": 54
        }
      ]
    },
    {
      "cell_type": "code",
      "source": [
        "dict_a['N']"
      ],
      "metadata": {
        "id": "RC1H3iMgQqJ4",
        "outputId": "9be8e245-59ba-4b1e-d415-f79a6911b11c",
        "colab": {
          "base_uri": "https://localhost:8080/",
          "height": 0
        }
      },
      "execution_count": 55,
      "outputs": [
        {
          "output_type": "execute_result",
          "data": {
            "application/vnd.google.colaboratory.intrinsic+json": {
              "type": "string"
            },
            "text/plain": [
              "'New'"
            ]
          },
          "metadata": {},
          "execution_count": 55
        }
      ]
    },
    {
      "cell_type": "code",
      "source": [
        "dict_a.keys()"
      ],
      "metadata": {
        "id": "V-5PexFUQ371",
        "outputId": "7824e122-28e7-441f-d503-c91f7b7166c0",
        "colab": {
          "base_uri": "https://localhost:8080/"
        }
      },
      "execution_count": 56,
      "outputs": [
        {
          "output_type": "execute_result",
          "data": {
            "text/plain": [
              "dict_keys([1, 'N', '2022'])"
            ]
          },
          "metadata": {},
          "execution_count": 56
        }
      ]
    },
    {
      "cell_type": "code",
      "source": [
        "dict_a.values()"
      ],
      "metadata": {
        "id": "o-CGaFdpRFv8",
        "outputId": "faf64dbf-d2c1-40d0-aab9-de9c46f8a786",
        "colab": {
          "base_uri": "https://localhost:8080/"
        }
      },
      "execution_count": 57,
      "outputs": [
        {
          "output_type": "execute_result",
          "data": {
            "text/plain": [
              "dict_values(['Happy', 'New', 'Year'])"
            ]
          },
          "metadata": {},
          "execution_count": 57
        }
      ]
    },
    {
      "cell_type": "markdown",
      "source": [
        "### การเพิ่มสมาชิกลงไปใน Dictionary"
      ],
      "metadata": {
        "id": "OPpXgqrgRNkW"
      }
    },
    {
      "cell_type": "code",
      "source": [
        "dict_a[7] = 3.14"
      ],
      "metadata": {
        "id": "sDHNlvEHRNJK"
      },
      "execution_count": 58,
      "outputs": []
    },
    {
      "cell_type": "code",
      "source": [
        "dict_a"
      ],
      "metadata": {
        "id": "MQzxlaBORd_x",
        "outputId": "c8c43c59-0bb0-440d-920f-8e3fe6d34b5a",
        "colab": {
          "base_uri": "https://localhost:8080/"
        }
      },
      "execution_count": 59,
      "outputs": [
        {
          "output_type": "execute_result",
          "data": {
            "text/plain": [
              "{1: 'Happy', '2022': 'Year', 7: 3.14, 'N': 'New'}"
            ]
          },
          "metadata": {},
          "execution_count": 59
        }
      ]
    },
    {
      "cell_type": "code",
      "source": [
        "dict_a['N'] = 'NNNNEEEEWWWW'"
      ],
      "metadata": {
        "id": "TU_gE_-ZRiut"
      },
      "execution_count": 60,
      "outputs": []
    },
    {
      "cell_type": "code",
      "source": [
        "dict_a"
      ],
      "metadata": {
        "id": "_aSLw3V_RtvP",
        "outputId": "5a8b3c1c-897e-4133-e0be-632beab9a639",
        "colab": {
          "base_uri": "https://localhost:8080/"
        }
      },
      "execution_count": 61,
      "outputs": [
        {
          "output_type": "execute_result",
          "data": {
            "text/plain": [
              "{1: 'Happy', '2022': 'Year', 7: 3.14, 'N': 'NNNNEEEEWWWW'}"
            ]
          },
          "metadata": {},
          "execution_count": 61
        }
      ]
    },
    {
      "cell_type": "markdown",
      "source": [
        "### Numpy Array"
      ],
      "metadata": {
        "id": "sdpUtTN5OssI"
      }
    },
    {
      "cell_type": "markdown",
      "source": [
        "![image.png](data:image/png;base64,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)"
      ],
      "metadata": {
        "id": "VJMvFYQATRlZ"
      }
    },
    {
      "cell_type": "markdown",
      "source": [
        "* เก็บได้แต่ตัวเลข\n",
        "* อ้างอิงโดยใช้ 'พิกัด' (2มิติ มองเป็น Matrix)"
      ],
      "metadata": {
        "id": "sFhVsQ2iUVnS"
      }
    },
    {
      "cell_type": "markdown",
      "source": [
        "### 1D Array"
      ],
      "metadata": {
        "id": "_hxjfbv3YJrx"
      }
    },
    {
      "cell_type": "code",
      "source": [
        "import numpy"
      ],
      "metadata": {
        "id": "FvDz8NRuUy3t"
      },
      "execution_count": 62,
      "outputs": []
    },
    {
      "cell_type": "code",
      "source": [
        "list_A = [1,2,3,4,5]"
      ],
      "metadata": {
        "id": "pL7umLYUVuLE"
      },
      "execution_count": 63,
      "outputs": []
    },
    {
      "cell_type": "code",
      "source": [
        "arr_a = numpy.array(list_A)"
      ],
      "metadata": {
        "id": "8KjBCoDeVXU6"
      },
      "execution_count": 64,
      "outputs": []
    },
    {
      "cell_type": "code",
      "source": [
        "arr_a"
      ],
      "metadata": {
        "id": "zsHXNCp9Vgtm",
        "outputId": "d87ecf30-9f66-4292-9a0f-5332af2f2c7a",
        "colab": {
          "base_uri": "https://localhost:8080/"
        }
      },
      "execution_count": 65,
      "outputs": [
        {
          "output_type": "execute_result",
          "data": {
            "text/plain": [
              "array([1, 2, 3, 4, 5])"
            ]
          },
          "metadata": {},
          "execution_count": 65
        }
      ]
    },
    {
      "cell_type": "code",
      "source": [
        "list_A"
      ],
      "metadata": {
        "id": "vKbxk8ClWCUi",
        "outputId": "1bef6b4b-bc51-4f40-b517-e8b32cad0763",
        "colab": {
          "base_uri": "https://localhost:8080/"
        }
      },
      "execution_count": 66,
      "outputs": [
        {
          "output_type": "execute_result",
          "data": {
            "text/plain": [
              "[1, 2, 3, 4, 5]"
            ]
          },
          "metadata": {},
          "execution_count": 66
        }
      ]
    },
    {
      "cell_type": "code",
      "source": [
        "arr_a[0]"
      ],
      "metadata": {
        "id": "AlYfASS5Vmku",
        "outputId": "fb218273-827b-4910-d1d6-8c8c31efd785",
        "colab": {
          "base_uri": "https://localhost:8080/"
        }
      },
      "execution_count": 67,
      "outputs": [
        {
          "output_type": "execute_result",
          "data": {
            "text/plain": [
              "1"
            ]
          },
          "metadata": {},
          "execution_count": 67
        }
      ]
    },
    {
      "cell_type": "code",
      "source": [
        "list_A[0]"
      ],
      "metadata": {
        "id": "eyw_h_30VmL7",
        "outputId": "6e6fde77-7fcb-4ad6-fb8a-cf5ff980b694",
        "colab": {
          "base_uri": "https://localhost:8080/"
        }
      },
      "execution_count": 68,
      "outputs": [
        {
          "output_type": "execute_result",
          "data": {
            "text/plain": [
              "1"
            ]
          },
          "metadata": {},
          "execution_count": 68
        }
      ]
    },
    {
      "cell_type": "code",
      "source": [
        "5*arr_a # Matrix (Scalar multiplication)"
      ],
      "metadata": {
        "id": "unMNs9EiWK3J",
        "outputId": "e564da50-3f50-47b6-fc52-21fffbe9fb8c",
        "colab": {
          "base_uri": "https://localhost:8080/"
        }
      },
      "execution_count": 69,
      "outputs": [
        {
          "output_type": "execute_result",
          "data": {
            "text/plain": [
              "array([ 5, 10, 15, 20, 25])"
            ]
          },
          "metadata": {},
          "execution_count": 69
        }
      ]
    },
    {
      "cell_type": "code",
      "source": [
        "5*list_A"
      ],
      "metadata": {
        "id": "jYPRdat3WtYm",
        "outputId": "d0652290-a71f-4c5a-ee4b-bc834bbbaca8",
        "colab": {
          "base_uri": "https://localhost:8080/"
        }
      },
      "execution_count": 70,
      "outputs": [
        {
          "output_type": "execute_result",
          "data": {
            "text/plain": [
              "[1, 2, 3, 4, 5, 1, 2, 3, 4, 5, 1, 2, 3, 4, 5, 1, 2, 3, 4, 5, 1, 2, 3, 4, 5]"
            ]
          },
          "metadata": {},
          "execution_count": 70
        }
      ]
    },
    {
      "cell_type": "code",
      "source": [
        "arr_b = numpy.array([10,20,30,40,50])"
      ],
      "metadata": {
        "id": "4OQP74mLXPLB"
      },
      "execution_count": 71,
      "outputs": []
    },
    {
      "cell_type": "code",
      "source": [
        "print(arr_a)"
      ],
      "metadata": {
        "id": "7NUtSRVSXYqk",
        "outputId": "5970a4d6-c576-42ed-9edb-31629dce195d",
        "colab": {
          "base_uri": "https://localhost:8080/"
        }
      },
      "execution_count": 72,
      "outputs": [
        {
          "output_type": "stream",
          "name": "stdout",
          "text": [
            "[1 2 3 4 5]\n"
          ]
        }
      ]
    },
    {
      "cell_type": "code",
      "source": [
        "arr_a + arr_b # ตำแหน่งเดียวกันมาบวกกัน"
      ],
      "metadata": {
        "id": "9i8jawbkXpkE",
        "outputId": "ed168f35-c534-411a-e5ac-42376d2ec816",
        "colab": {
          "base_uri": "https://localhost:8080/"
        }
      },
      "execution_count": 73,
      "outputs": [
        {
          "output_type": "execute_result",
          "data": {
            "text/plain": [
              "array([11, 22, 33, 44, 55])"
            ]
          },
          "metadata": {},
          "execution_count": 73
        }
      ]
    },
    {
      "cell_type": "markdown",
      "source": [
        "### 2D Array"
      ],
      "metadata": {
        "id": "GqdLBcEdYCqe"
      }
    },
    {
      "cell_type": "code",
      "source": [
        "import numpy as np"
      ],
      "metadata": {
        "id": "1fEMVuqMYTLe"
      },
      "execution_count": 74,
      "outputs": []
    },
    {
      "cell_type": "code",
      "source": [
        "arr2_z = np.array([[1,2,3],[4,5,6]])"
      ],
      "metadata": {
        "id": "iEOCMTrhYNpL"
      },
      "execution_count": 75,
      "outputs": []
    },
    {
      "cell_type": "code",
      "source": [
        "arr2_z"
      ],
      "metadata": {
        "id": "3fbfLbMVY-WH",
        "outputId": "2d258d0c-97b7-494a-f3fe-185a5cbbeea9",
        "colab": {
          "base_uri": "https://localhost:8080/"
        }
      },
      "execution_count": 76,
      "outputs": [
        {
          "output_type": "execute_result",
          "data": {
            "text/plain": [
              "array([[1, 2, 3],\n",
              "       [4, 5, 6]])"
            ]
          },
          "metadata": {},
          "execution_count": 76
        }
      ]
    },
    {
      "cell_type": "code",
      "source": [
        "arr2_z.shape"
      ],
      "metadata": {
        "id": "qfxGEsrdZpzs",
        "outputId": "5e8cb8db-8ff7-4bbc-a076-89e3dbbd4486",
        "colab": {
          "base_uri": "https://localhost:8080/"
        }
      },
      "execution_count": 77,
      "outputs": [
        {
          "output_type": "execute_result",
          "data": {
            "text/plain": [
              "(2, 3)"
            ]
          },
          "metadata": {},
          "execution_count": 77
        }
      ]
    },
    {
      "cell_type": "markdown",
      "source": [
        "###`np.zeros()`"
      ],
      "metadata": {
        "id": "spNWDn_QZdzD"
      }
    },
    {
      "cell_type": "code",
      "source": [
        "arr2_3_5_0 = np.zeros((3,5))"
      ],
      "metadata": {
        "id": "AUAJpjPEZM3z"
      },
      "execution_count": 78,
      "outputs": []
    },
    {
      "cell_type": "code",
      "source": [
        "arr2_3_5_0"
      ],
      "metadata": {
        "id": "W3fCWutlZM0Q",
        "outputId": "90e38eda-3d32-43c6-8a64-1111ff1e24b2",
        "colab": {
          "base_uri": "https://localhost:8080/"
        }
      },
      "execution_count": 79,
      "outputs": [
        {
          "output_type": "execute_result",
          "data": {
            "text/plain": [
              "array([[0., 0., 0., 0., 0.],\n",
              "       [0., 0., 0., 0., 0.],\n",
              "       [0., 0., 0., 0., 0.]])"
            ]
          },
          "metadata": {},
          "execution_count": 79
        }
      ]
    },
    {
      "cell_type": "code",
      "source": [
        "arr2_3_5_0[1,2] =9    #1 = แถว , 2 = หลัก"
      ],
      "metadata": {
        "id": "j_hDeTOYZMAw"
      },
      "execution_count": 80,
      "outputs": []
    },
    {
      "cell_type": "code",
      "source": [
        "arr2_3_5_0"
      ],
      "metadata": {
        "id": "IziZBBIraiP7",
        "outputId": "5aee94b0-21c9-48fd-e280-970d305f993a",
        "colab": {
          "base_uri": "https://localhost:8080/"
        }
      },
      "execution_count": 81,
      "outputs": [
        {
          "output_type": "execute_result",
          "data": {
            "text/plain": [
              "array([[0., 0., 0., 0., 0.],\n",
              "       [0., 0., 9., 0., 0.],\n",
              "       [0., 0., 0., 0., 0.]])"
            ]
          },
          "metadata": {},
          "execution_count": 81
        }
      ]
    },
    {
      "cell_type": "code",
      "source": [
        "arr2_3_5_0[1,2]"
      ],
      "metadata": {
        "id": "U5_yW2UfaiMk",
        "outputId": "d8669a9c-0139-47c6-9a0b-6cb5dff41c86",
        "colab": {
          "base_uri": "https://localhost:8080/"
        }
      },
      "execution_count": 82,
      "outputs": [
        {
          "output_type": "execute_result",
          "data": {
            "text/plain": [
              "9.0"
            ]
          },
          "metadata": {},
          "execution_count": 82
        }
      ]
    },
    {
      "cell_type": "code",
      "source": [
        "print(list_A)# เปลี่ยนค่าใน list()\n",
        "list_A[-1] = 'Christmas'\n",
        "print(list_A)"
      ],
      "metadata": {
        "id": "u-MtfemTbUKq",
        "outputId": "81dc315c-fbd5-41ab-a6fa-c518f5ac8e4c",
        "colab": {
          "base_uri": "https://localhost:8080/"
        }
      },
      "execution_count": 83,
      "outputs": [
        {
          "output_type": "stream",
          "name": "stdout",
          "text": [
            "[1, 2, 3, 4, 5]\n",
            "[1, 2, 3, 4, 'Christmas']\n"
          ]
        }
      ]
    },
    {
      "cell_type": "markdown",
      "source": [
        "###`np.ones()`"
      ],
      "metadata": {
        "id": "YFw7tYpMb5l2"
      }
    },
    {
      "cell_type": "code",
      "source": [
        "arr2_4_5_1 = np.ones((4,5))"
      ],
      "metadata": {
        "id": "i9UTOL9RcBqn"
      },
      "execution_count": 84,
      "outputs": []
    },
    {
      "cell_type": "code",
      "source": [
        "arr2_4_5_1"
      ],
      "metadata": {
        "id": "Qv0nGrURcLIO",
        "outputId": "c44f328e-ab9e-431f-9d03-9de19a0c9412",
        "colab": {
          "base_uri": "https://localhost:8080/"
        }
      },
      "execution_count": 85,
      "outputs": [
        {
          "output_type": "execute_result",
          "data": {
            "text/plain": [
              "array([[1., 1., 1., 1., 1.],\n",
              "       [1., 1., 1., 1., 1.],\n",
              "       [1., 1., 1., 1., 1.],\n",
              "       [1., 1., 1., 1., 1.]])"
            ]
          },
          "metadata": {},
          "execution_count": 85
        }
      ]
    },
    {
      "cell_type": "code",
      "source": [
        "arr2_4_5_200 = 200*np.ones((4,5))"
      ],
      "metadata": {
        "id": "cxN7xWSzcPqT"
      },
      "execution_count": 86,
      "outputs": []
    },
    {
      "cell_type": "code",
      "source": [
        "arr2_4_5_200"
      ],
      "metadata": {
        "id": "pEatrKUtcZv2",
        "outputId": "18dc7f2f-4460-49ca-d755-eeb92449c398",
        "colab": {
          "base_uri": "https://localhost:8080/"
        }
      },
      "execution_count": 87,
      "outputs": [
        {
          "output_type": "execute_result",
          "data": {
            "text/plain": [
              "array([[200., 200., 200., 200., 200.],\n",
              "       [200., 200., 200., 200., 200.],\n",
              "       [200., 200., 200., 200., 200.],\n",
              "       [200., 200., 200., 200., 200.]])"
            ]
          },
          "metadata": {},
          "execution_count": 87
        }
      ]
    },
    {
      "cell_type": "markdown",
      "source": [
        "### Matrix operations"
      ],
      "metadata": {
        "id": "hYAGIfvacy3U"
      }
    },
    {
      "cell_type": "markdown",
      "source": [
        "####การบวก ลบ Matrix $M \\ $"
      ],
      "metadata": {
        "id": "x0cWmZ43c9d8"
      }
    },
    {
      "cell_type": "code",
      "source": [
        "arr2_4_5_200 + arr2_3_5_0 # shape ไม่เท่ากัน"
      ],
      "metadata": {
        "id": "d8XFEeKBc5Th",
        "outputId": "58c3e9f5-cde8-47f5-ec8b-4cacb540ee3a",
        "colab": {
          "base_uri": "https://localhost:8080/",
          "height": 167
        }
      },
      "execution_count": 88,
      "outputs": [
        {
          "output_type": "error",
          "ename": "ValueError",
          "evalue": "ignored",
          "traceback": [
            "\u001b[0;31m---------------------------------------------------------------------------\u001b[0m",
            "\u001b[0;31mValueError\u001b[0m                                Traceback (most recent call last)",
            "\u001b[0;32m<ipython-input-88-654fe8e274a6>\u001b[0m in \u001b[0;36m<module>\u001b[0;34m()\u001b[0m\n\u001b[0;32m----> 1\u001b[0;31m \u001b[0marr2_4_5_200\u001b[0m \u001b[0;34m+\u001b[0m \u001b[0marr2_3_5_0\u001b[0m \u001b[0;31m# shape ไม่เท่ากัน\u001b[0m\u001b[0;34m\u001b[0m\u001b[0;34m\u001b[0m\u001b[0m\n\u001b[0m",
            "\u001b[0;31mValueError\u001b[0m: operands could not be broadcast together with shapes (4,5) (3,5) "
          ]
        }
      ]
    },
    {
      "cell_type": "code",
      "source": [
        "arr2_4_5_200 + arr2_4_5_1"
      ],
      "metadata": {
        "id": "G5F8uHjddQXd",
        "outputId": "57d0cb19-fdc7-4215-e7af-335c008d7d2f",
        "colab": {
          "base_uri": "https://localhost:8080/"
        }
      },
      "execution_count": 89,
      "outputs": [
        {
          "output_type": "execute_result",
          "data": {
            "text/plain": [
              "array([[201., 201., 201., 201., 201.],\n",
              "       [201., 201., 201., 201., 201.],\n",
              "       [201., 201., 201., 201., 201.],\n",
              "       [201., 201., 201., 201., 201.]])"
            ]
          },
          "metadata": {},
          "execution_count": 89
        }
      ]
    },
    {
      "cell_type": "markdown",
      "source": [
        "#### การคูณ Matrix\n",
        " \n",
        "*$aM$ scalar คูณ Matrix (scalar คูณกระจายเข้าไปทุกตัวของ Matrix)\n",
        "\n",
        "*$M\\times N $ Matrix คูณ Matrix (แถว * หลัก)"
      ],
      "metadata": {
        "id": "gGQjOB2qdZQ2"
      }
    },
    {
      "cell_type": "markdown",
      "source": [
        "$M\\times N$ (dot product)\n",
        "\n",
        "* (m,n) $\\times$ (n,o) = (m,o) (shape)"
      ],
      "metadata": {
        "id": "CGFo0TO8eoMo"
      }
    },
    {
      "cell_type": "code",
      "source": [
        "mat_a = np.array([[2,3,5],[4,6,7]])\n",
        "mat_b = np.array([[1,2,5],[2,4,-7]])\n",
        "mat_c = np.array([[2,3],[4,6],[7,9]])"
      ],
      "metadata": {
        "id": "p_7vXzndc5QH"
      },
      "execution_count": 90,
      "outputs": []
    },
    {
      "cell_type": "code",
      "source": [
        "mat_a"
      ],
      "metadata": {
        "id": "21D9s7_0c5Nf",
        "outputId": "d727d37e-5320-4bdc-951c-81767351121e",
        "colab": {
          "base_uri": "https://localhost:8080/"
        }
      },
      "execution_count": 91,
      "outputs": [
        {
          "output_type": "execute_result",
          "data": {
            "text/plain": [
              "array([[2, 3, 5],\n",
              "       [4, 6, 7]])"
            ]
          },
          "metadata": {},
          "execution_count": 91
        }
      ]
    },
    {
      "cell_type": "code",
      "source": [
        "mat_b"
      ],
      "metadata": {
        "id": "uY072_7Gc5Kv",
        "outputId": "69ed01a3-0291-4f99-bd57-d7ad63fb42ad",
        "colab": {
          "base_uri": "https://localhost:8080/"
        }
      },
      "execution_count": 92,
      "outputs": [
        {
          "output_type": "execute_result",
          "data": {
            "text/plain": [
              "array([[ 1,  2,  5],\n",
              "       [ 2,  4, -7]])"
            ]
          },
          "metadata": {},
          "execution_count": 92
        }
      ]
    },
    {
      "cell_type": "code",
      "source": [
        "mat_c"
      ],
      "metadata": {
        "id": "5CZp2hrygRIu",
        "outputId": "2cf73abb-e320-4840-e073-eef57c62e486",
        "colab": {
          "base_uri": "https://localhost:8080/"
        }
      },
      "execution_count": 93,
      "outputs": [
        {
          "output_type": "execute_result",
          "data": {
            "text/plain": [
              "array([[2, 3],\n",
              "       [4, 6],\n",
              "       [7, 9]])"
            ]
          },
          "metadata": {},
          "execution_count": 93
        }
      ]
    },
    {
      "cell_type": "markdown",
      "source": [
        "axc , bxc"
      ],
      "metadata": {
        "id": "9fVo07QdhAH5"
      }
    },
    {
      "cell_type": "code",
      "source": [
        "np.dot(mat_a,mat_c)"
      ],
      "metadata": {
        "id": "K3IuDSUTgk-K",
        "outputId": "91f7d196-d3ea-447b-bf08-740c7c034667",
        "colab": {
          "base_uri": "https://localhost:8080/"
        }
      },
      "execution_count": 94,
      "outputs": [
        {
          "output_type": "execute_result",
          "data": {
            "text/plain": [
              "array([[ 51,  69],\n",
              "       [ 81, 111]])"
            ]
          },
          "metadata": {},
          "execution_count": 94
        }
      ]
    },
    {
      "cell_type": "code",
      "source": [
        "np.dot(mat_b,mat_c)"
      ],
      "metadata": {
        "id": "kEpjVwSUgygF",
        "outputId": "e9577f0d-3ec4-434b-c3e8-db920863a479",
        "colab": {
          "base_uri": "https://localhost:8080/"
        }
      },
      "execution_count": 95,
      "outputs": [
        {
          "output_type": "execute_result",
          "data": {
            "text/plain": [
              "array([[ 45,  60],\n",
              "       [-29, -33]])"
            ]
          },
          "metadata": {},
          "execution_count": 95
        }
      ]
    },
    {
      "cell_type": "markdown",
      "source": [
        "cxa,cxb"
      ],
      "metadata": {
        "id": "4DDY3g5ZhF8D"
      }
    },
    {
      "cell_type": "code",
      "source": [
        "np.dot(mat_c,mat_a)"
      ],
      "metadata": {
        "id": "6paNHLrjhFkB",
        "outputId": "3306cf6b-9495-43d9-c621-91d41565d2e9",
        "colab": {
          "base_uri": "https://localhost:8080/"
        }
      },
      "execution_count": 96,
      "outputs": [
        {
          "output_type": "execute_result",
          "data": {
            "text/plain": [
              "array([[16, 24, 31],\n",
              "       [32, 48, 62],\n",
              "       [50, 75, 98]])"
            ]
          },
          "metadata": {},
          "execution_count": 96
        }
      ]
    },
    {
      "cell_type": "code",
      "source": [
        "mat_X = np.dot(mat_c,mat_b)"
      ],
      "metadata": {
        "id": "AiIedyHShESJ"
      },
      "execution_count": 97,
      "outputs": []
    },
    {
      "cell_type": "code",
      "source": [
        "mat_a * mat_b # คูณตำแหน่งเดียวกัน"
      ],
      "metadata": {
        "id": "obzKM4sqhc4a",
        "outputId": "aa0cd2af-6d70-41b7-c9f0-d5688407d089",
        "colab": {
          "base_uri": "https://localhost:8080/"
        }
      },
      "execution_count": 98,
      "outputs": [
        {
          "output_type": "execute_result",
          "data": {
            "text/plain": [
              "array([[  2,   6,  25],\n",
              "       [  8,  24, -49]])"
            ]
          },
          "metadata": {},
          "execution_count": 98
        }
      ]
    },
    {
      "cell_type": "markdown",
      "source": [
        "### Matrix Slicing"
      ],
      "metadata": {
        "id": "ICpLro_BhzZu"
      }
    },
    {
      "cell_type": "code",
      "source": [
        "mat_X[:2,:2]"
      ],
      "metadata": {
        "id": "32YbFAozhyt3",
        "outputId": "51d48049-9ff9-4d4f-a5eb-0a1df464b131",
        "colab": {
          "base_uri": "https://localhost:8080/"
        }
      },
      "execution_count": 99,
      "outputs": [
        {
          "output_type": "execute_result",
          "data": {
            "text/plain": [
              "array([[ 8, 16],\n",
              "       [16, 32]])"
            ]
          },
          "metadata": {},
          "execution_count": 99
        }
      ]
    },
    {
      "cell_type": "markdown",
      "source": [
        "## HW3\n",
        "\n",
        "1. สร้าง array ที่มีรูป ต้น Christmas\n",
        "2. Slice เลข1 ออกมาจาก array HW3 ด้วยการ slice แค่ครั้งเดียว\n",
        " "
      ],
      "metadata": {
        "id": "YgbuNW62ieoA"
      }
    },
    {
      "cell_type": "code",
      "source": [
        "CM = np.ones((15,15))\n",
        "CM"
      ],
      "metadata": {
        "id": "_u_dePDTm6ZS",
        "outputId": "f69a86e0-ba6a-4c3c-e25c-6ef89e1dee14",
        "colab": {
          "base_uri": "https://localhost:8080/"
        }
      },
      "execution_count": 156,
      "outputs": [
        {
          "output_type": "execute_result",
          "data": {
            "text/plain": [
              "array([[1., 1., 1., 1., 1., 1., 1., 1., 1., 1., 1., 1., 1., 1., 1.],\n",
              "       [1., 1., 1., 1., 1., 1., 1., 1., 1., 1., 1., 1., 1., 1., 1.],\n",
              "       [1., 1., 1., 1., 1., 1., 1., 1., 1., 1., 1., 1., 1., 1., 1.],\n",
              "       [1., 1., 1., 1., 1., 1., 1., 1., 1., 1., 1., 1., 1., 1., 1.],\n",
              "       [1., 1., 1., 1., 1., 1., 1., 1., 1., 1., 1., 1., 1., 1., 1.],\n",
              "       [1., 1., 1., 1., 1., 1., 1., 1., 1., 1., 1., 1., 1., 1., 1.],\n",
              "       [1., 1., 1., 1., 1., 1., 1., 1., 1., 1., 1., 1., 1., 1., 1.],\n",
              "       [1., 1., 1., 1., 1., 1., 1., 1., 1., 1., 1., 1., 1., 1., 1.],\n",
              "       [1., 1., 1., 1., 1., 1., 1., 1., 1., 1., 1., 1., 1., 1., 1.],\n",
              "       [1., 1., 1., 1., 1., 1., 1., 1., 1., 1., 1., 1., 1., 1., 1.],\n",
              "       [1., 1., 1., 1., 1., 1., 1., 1., 1., 1., 1., 1., 1., 1., 1.],\n",
              "       [1., 1., 1., 1., 1., 1., 1., 1., 1., 1., 1., 1., 1., 1., 1.],\n",
              "       [1., 1., 1., 1., 1., 1., 1., 1., 1., 1., 1., 1., 1., 1., 1.],\n",
              "       [1., 1., 1., 1., 1., 1., 1., 1., 1., 1., 1., 1., 1., 1., 1.],\n",
              "       [1., 1., 1., 1., 1., 1., 1., 1., 1., 1., 1., 1., 1., 1., 1.]])"
            ]
          },
          "metadata": {},
          "execution_count": 156
        }
      ]
    },
    {
      "cell_type": "code",
      "source": [
        "CM[:,7] = 6\n",
        "CM[1:,8] =6\n",
        "CM[2:11,6]=6\n",
        "CM[3:11,5]=6\n",
        "CM[4,4]=6\n",
        "CM[6:11,4]=6\n",
        "CM[7,3]=6\n",
        "CM[9:11,3]=6\n",
        "CM[10,2]=6\n",
        "CM[2:11,9]=6\n",
        "CM[3:11,10]=6\n",
        "CM[4,11]=6\n",
        "CM[6:11,11]=6\n",
        "CM[7,12]=6\n",
        "CM[9:11,12]=6\n",
        "CM[10,13]=6\n",
        "CM"
      ],
      "metadata": {
        "id": "2aWLAP8Knc71",
        "outputId": "50b1f68f-2cf6-48e8-c3dd-2b0cf8456039",
        "colab": {
          "base_uri": "https://localhost:8080/"
        }
      },
      "execution_count": 162,
      "outputs": [
        {
          "output_type": "execute_result",
          "data": {
            "text/plain": [
              "array([[1., 1., 1., 1., 1., 1., 1., 6., 1., 1., 1., 1., 1., 1., 1.],\n",
              "       [1., 1., 1., 1., 1., 1., 1., 6., 6., 1., 1., 1., 1., 1., 1.],\n",
              "       [1., 1., 1., 1., 1., 1., 6., 6., 6., 6., 1., 1., 1., 1., 1.],\n",
              "       [1., 1., 1., 1., 1., 6., 6., 6., 6., 6., 6., 1., 1., 1., 1.],\n",
              "       [1., 1., 1., 1., 6., 6., 6., 6., 6., 6., 6., 6., 1., 1., 1.],\n",
              "       [1., 1., 1., 1., 1., 6., 6., 6., 6., 6., 6., 1., 1., 1., 1.],\n",
              "       [1., 1., 1., 1., 6., 6., 6., 6., 6., 6., 6., 6., 1., 1., 1.],\n",
              "       [1., 1., 1., 6., 6., 6., 6., 6., 6., 6., 6., 6., 6., 1., 1.],\n",
              "       [1., 1., 1., 1., 6., 6., 6., 6., 6., 6., 6., 6., 1., 1., 1.],\n",
              "       [1., 1., 1., 6., 6., 6., 6., 6., 6., 6., 6., 6., 6., 1., 1.],\n",
              "       [1., 1., 6., 6., 6., 6., 6., 6., 6., 6., 6., 6., 6., 6., 1.],\n",
              "       [1., 1., 1., 1., 1., 1., 1., 6., 6., 1., 1., 1., 1., 1., 1.],\n",
              "       [1., 1., 1., 1., 1., 1., 1., 6., 6., 1., 1., 1., 1., 1., 1.],\n",
              "       [1., 1., 1., 1., 1., 1., 1., 6., 6., 1., 1., 1., 1., 1., 1.],\n",
              "       [1., 1., 1., 1., 1., 1., 1., 6., 6., 1., 1., 1., 1., 1., 1.]])"
            ]
          },
          "metadata": {},
          "execution_count": 162
        }
      ]
    },
    {
      "cell_type": "code",
      "source": [
        "HW3 = np.zeros((10,10))\n",
        "HW3"
      ],
      "metadata": {
        "id": "Bf0rC-B-i1sO",
        "outputId": "5cdd08d0-315f-4acd-db11-6c97f594251e",
        "colab": {
          "base_uri": "https://localhost:8080/"
        }
      },
      "execution_count": 106,
      "outputs": [
        {
          "output_type": "execute_result",
          "data": {
            "text/plain": [
              "array([[0., 0., 0., 0., 0., 0., 0., 0., 0., 0.],\n",
              "       [0., 0., 0., 0., 0., 0., 0., 0., 0., 0.],\n",
              "       [0., 0., 0., 0., 0., 0., 0., 0., 0., 0.],\n",
              "       [0., 0., 0., 0., 0., 0., 0., 0., 0., 0.],\n",
              "       [0., 0., 0., 0., 0., 0., 0., 0., 0., 0.],\n",
              "       [0., 0., 0., 0., 0., 0., 0., 0., 0., 0.],\n",
              "       [0., 0., 0., 0., 0., 0., 0., 0., 0., 0.],\n",
              "       [0., 0., 0., 0., 0., 0., 0., 0., 0., 0.],\n",
              "       [0., 0., 0., 0., 0., 0., 0., 0., 0., 0.],\n",
              "       [0., 0., 0., 0., 0., 0., 0., 0., 0., 0.]])"
            ]
          },
          "metadata": {},
          "execution_count": 106
        }
      ]
    },
    {
      "cell_type": "code",
      "source": [
        "HW3 [::4,2] =1\n",
        "HW3 [::4,4] =1\n",
        "HW3 [::4,6] =1\n",
        "HW3 [::4,8] =1\n",
        "HW3 "
      ],
      "metadata": {
        "id": "ceWdF94skWfO",
        "outputId": "46af2f3c-647d-4de9-8605-5c4537efa4a3",
        "colab": {
          "base_uri": "https://localhost:8080/"
        }
      },
      "execution_count": 108,
      "outputs": [
        {
          "output_type": "execute_result",
          "data": {
            "text/plain": [
              "array([[0., 0., 1., 0., 1., 0., 1., 0., 1., 0.],\n",
              "       [0., 0., 0., 0., 0., 0., 0., 0., 0., 0.],\n",
              "       [0., 0., 0., 0., 0., 0., 0., 0., 0., 0.],\n",
              "       [0., 0., 0., 0., 0., 0., 0., 0., 0., 0.],\n",
              "       [0., 0., 1., 0., 1., 0., 1., 0., 1., 0.],\n",
              "       [0., 0., 0., 0., 0., 0., 0., 0., 0., 0.],\n",
              "       [0., 0., 0., 0., 0., 0., 0., 0., 0., 0.],\n",
              "       [0., 0., 0., 0., 0., 0., 0., 0., 0., 0.],\n",
              "       [0., 0., 1., 0., 1., 0., 1., 0., 1., 0.],\n",
              "       [0., 0., 0., 0., 0., 0., 0., 0., 0., 0.]])"
            ]
          },
          "metadata": {},
          "execution_count": 108
        }
      ]
    },
    {
      "cell_type": "markdown",
      "source": [
        "## Pandas Datafram (แยกออกไปเป็น Notebook เฉพาะ) "
      ],
      "metadata": {
        "id": "p984gwBsOzDu"
      }
    },
    {
      "cell_type": "code",
      "source": [
        ""
      ],
      "metadata": {
        "id": "9bLa0Z3ADpAU"
      },
      "execution_count": null,
      "outputs": []
    }
  ]
}