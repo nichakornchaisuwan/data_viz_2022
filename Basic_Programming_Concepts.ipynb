{
  "nbformat": 4,
  "nbformat_minor": 0,
  "metadata": {
    "colab": {
      "name": "Basic Programming Concepts.ipynb",
      "provenance": [],
      "authorship_tag": "ABX9TyPl2dKkWAxTmItUuxMtBg+N",
      "include_colab_link": true
    },
    "kernelspec": {
      "name": "python3",
      "display_name": "Python 3"
    },
    "language_info": {
      "name": "python"
    }
  },
  "cells": [
    {
      "cell_type": "markdown",
      "metadata": {
        "id": "view-in-github",
        "colab_type": "text"
      },
      "source": [
        "<a href=\"https://colab.research.google.com/github/nichakornchaisuwan/data_viz_2022/blob/main/Basic_Programming_Concepts.ipynb\" target=\"_parent\"><img src=\"https://colab.research.google.com/assets/colab-badge.svg\" alt=\"Open In Colab\"/></a>"
      ]
    },
    {
      "cell_type": "markdown",
      "source": [
        "#Function($f(x) = y $)"
      ],
      "metadata": {
        "id": "lz-seBWaDi21"
      }
    },
    {
      "cell_type": "markdown",
      "source": [
        "```python\n",
        "def function_name(input_x) :\n",
        "     # do something with input_x to get output_y\n",
        "     return output_y\n",
        "```\n",
        "def เป็นการบอกว่าจะสร้าง function"
      ],
      "metadata": {
        "id": "b_xqcvUPEJPv"
      }
    },
    {
      "cell_type": "markdown",
      "source": [
        "$f_1(x) = x^2 + 75$"
      ],
      "metadata": {
        "id": "Ejx0n8KxFx8S"
      }
    },
    {
      "cell_type": "code",
      "source": [
        "def function_f1(x): #name, input\n",
        "    a =x**2      #process\n",
        "    y = a + 75   \n",
        "    return y     #output\n",
        "print('done!')"
      ],
      "metadata": {
        "colab": {
          "base_uri": "https://localhost:8080/"
        },
        "id": "-8x42789FwcK",
        "outputId": "d4e1b3a6-effc-40ff-da74-e13fa02c51c9"
      },
      "execution_count": 1,
      "outputs": [
        {
          "output_type": "stream",
          "name": "stdout",
          "text": [
            "done!\n"
          ]
        }
      ]
    },
    {
      "cell_type": "code",
      "source": [
        "function_f1(3) # แทนค่า x"
      ],
      "metadata": {
        "colab": {
          "base_uri": "https://localhost:8080/"
        },
        "id": "R-sFir0cGSu5",
        "outputId": "48eb9418-7dd1-4564-93a4-aac93db75f31"
      },
      "execution_count": 2,
      "outputs": [
        {
          "output_type": "execute_result",
          "data": {
            "text/plain": [
              "84"
            ]
          },
          "metadata": {},
          "execution_count": 2
        }
      ]
    },
    {
      "cell_type": "markdown",
      "source": [
        "function มีส่วนสำคัญทั้งหมด 4 ส่วน\n",
        "\n",
        "1. บอก python ว่าเราจะเขียนฟังก์ชั่น ชื่ออะไร `def function_name()`: (ขาดไม่ได้)\n",
        "2. กำหนดตัวแปรที่จะเป็น input Input (ขาดได้)\n",
        "3. ส่วนประมวลผล do_something with Input to get Output (ขาดไม่ได้)\n",
        "4. ส่วน output `return` Output(ขาดได้)"
      ],
      "metadata": {
        "id": "7Imf9sDbHVVJ"
      }
    },
    {
      "cell_type": "markdown",
      "source": [
        "### ตัวอย่าง function ที่มีส่วนประกอบ"
      ],
      "metadata": {
        "id": "UGB45pbpIFdM"
      }
    },
    {
      "cell_type": "code",
      "source": [
        "def function_f1(x): #name, input\n",
        "    a =x**2      #process\n",
        "    y = a + 75   \n",
        "    return y     #output"
      ],
      "metadata": {
        "id": "LaI_4khlGlY_"
      },
      "execution_count": 3,
      "outputs": []
    },
    {
      "cell_type": "markdown",
      "source": [
        "###ตัวอย่าง function ที่ไม่มี input"
      ],
      "metadata": {
        "id": "mzolj0G3IaIf"
      }
    },
    {
      "cell_type": "code",
      "source": [
        "def pi_v():\n",
        "    y = 3.14159\n",
        "    return y"
      ],
      "metadata": {
        "id": "7WA3kFISIXDg"
      },
      "execution_count": 4,
      "outputs": []
    },
    {
      "cell_type": "code",
      "source": [
        "piv = pi_v()\n",
        "circle_area_r2 = piv*(2**2)\n",
        "print (circle_area_r2)"
      ],
      "metadata": {
        "colab": {
          "base_uri": "https://localhost:8080/"
        },
        "id": "GLiiqgvCIqBe",
        "outputId": "aa3c54c6-686e-46d8-ea9e-6f7ea5c26d5e"
      },
      "execution_count": 5,
      "outputs": [
        {
          "output_type": "stream",
          "name": "stdout",
          "text": [
            "12.56636\n"
          ]
        }
      ]
    },
    {
      "cell_type": "markdown",
      "source": [
        "### ตัวอย่าง function ไม่มี  process ไม่ได้"
      ],
      "metadata": {
        "id": "GAjUjnrNJLjZ"
      }
    },
    {
      "cell_type": "code",
      "source": [
        "def function_a(): #name, input"
      ],
      "metadata": {
        "colab": {
          "base_uri": "https://localhost:8080/",
          "height": 132
        },
        "id": "jKqQIEe6IMSu",
        "outputId": "ada8317e-8343-4a84-8c68-c884bff7094f"
      },
      "execution_count": 6,
      "outputs": [
        {
          "output_type": "error",
          "ename": "SyntaxError",
          "evalue": "ignored",
          "traceback": [
            "\u001b[0;36m  File \u001b[0;32m\"<ipython-input-6-2c950e2658ef>\"\u001b[0;36m, line \u001b[0;32m1\u001b[0m\n\u001b[0;31m    def function_a(): #name, input\u001b[0m\n\u001b[0m                                  ^\u001b[0m\n\u001b[0;31mSyntaxError\u001b[0m\u001b[0;31m:\u001b[0m unexpected EOF while parsing\n"
          ]
        }
      ]
    },
    {
      "cell_type": "markdown",
      "source": [
        "### ตัวอย่าง function ที่ไม่มี output"
      ],
      "metadata": {
        "id": "2B33km9MJXfE"
      }
    },
    {
      "cell_type": "code",
      "source": [
        "def print_name_id(name,id):\n",
        "    print (f'ชื่อ {name} รหัสประจำตัว {id}')"
      ],
      "metadata": {
        "id": "BXB8R_zRJfsU"
      },
      "execution_count": 38,
      "outputs": []
    },
    {
      "cell_type": "code",
      "source": [
        "print_name_id('ณิชากร','ุ623020521-8')"
      ],
      "metadata": {
        "colab": {
          "base_uri": "https://localhost:8080/"
        },
        "id": "6opIu0m9J5jg",
        "outputId": "48502c04-9b1e-4272-a2e6-80b227597db4"
      },
      "execution_count": 39,
      "outputs": [
        {
          "output_type": "stream",
          "name": "stdout",
          "text": [
            "ชื่อ ณิชากร รหัสประจำตัว ุ623020521-8\n"
          ]
        }
      ]
    },
    {
      "cell_type": "code",
      "source": [
        "a = print_name_id('ณิชากร','ุ623020521-8')"
      ],
      "metadata": {
        "colab": {
          "base_uri": "https://localhost:8080/"
        },
        "id": "lomD3Vn3Kn-6",
        "outputId": "0565a1b4-4507-49d9-eabd-fd41572059c5"
      },
      "execution_count": 40,
      "outputs": [
        {
          "output_type": "stream",
          "name": "stdout",
          "text": [
            "ชื่อ ณิชากร รหัสประจำตัว ุ623020521-8\n"
          ]
        }
      ]
    },
    {
      "cell_type": "code",
      "source": [
        "a"
      ],
      "metadata": {
        "id": "kB-b1MFvKrkt"
      },
      "execution_count": 41,
      "outputs": []
    },
    {
      "cell_type": "markdown",
      "source": [
        "ตัวอย่าง function `Print`"
      ],
      "metadata": {
        "id": "n9pFaz2SOvVG"
      }
    },
    {
      "cell_type": "code",
      "source": [
        "print('ณิชากร')\n",
        "print ('623020521-8')"
      ],
      "metadata": {
        "colab": {
          "base_uri": "https://localhost:8080/"
        },
        "id": "fY48AH3qO_I6",
        "outputId": "98823a26-e62b-4900-b884-edc3ac9e701f"
      },
      "execution_count": 42,
      "outputs": [
        {
          "output_type": "stream",
          "name": "stdout",
          "text": [
            "ณิชากร\n",
            "623020521-8\n"
          ]
        }
      ]
    },
    {
      "cell_type": "code",
      "source": [
        "print('ณิชากร',end='->')\n",
        "print ('623020521-8')"
      ],
      "metadata": {
        "colab": {
          "base_uri": "https://localhost:8080/"
        },
        "id": "ccGnsA8TPROF",
        "outputId": "6a65fce9-ee81-43b4-e432-c81e980552de"
      },
      "execution_count": 43,
      "outputs": [
        {
          "output_type": "stream",
          "name": "stdout",
          "text": [
            "ณิชากร->623020521-8\n"
          ]
        }
      ]
    },
    {
      "cell_type": "code",
      "source": [
        "print('ณิชากร','623020521-8')\n"
      ],
      "metadata": {
        "colab": {
          "base_uri": "https://localhost:8080/"
        },
        "id": "9NBzFKdDParz",
        "outputId": "90955460-958c-4425-c461-30c82756966e"
      },
      "execution_count": 44,
      "outputs": [
        {
          "output_type": "stream",
          "name": "stdout",
          "text": [
            "ณิชากร 623020521-8\n"
          ]
        }
      ]
    },
    {
      "cell_type": "code",
      "source": [
        "print('ณิชากร','623020521-8',sep='&')"
      ],
      "metadata": {
        "colab": {
          "base_uri": "https://localhost:8080/"
        },
        "id": "pnpPCImUPmy7",
        "outputId": "2a964190-8568-475d-fe8e-27d7e119b678"
      },
      "execution_count": 45,
      "outputs": [
        {
          "output_type": "stream",
          "name": "stdout",
          "text": [
            "ณิชากร&623020521-8\n"
          ]
        }
      ]
    },
    {
      "cell_type": "markdown",
      "source": [
        "## input ของ function แบ่งเป็น 2 ชนิด (จำเป็นต้องใส่ กับ ไม่จำเป็นต้องใส่)"
      ],
      "metadata": {
        "id": "hoUipeXpOu9o"
      }
    },
    {
      "cell_type": "markdown",
      "source": [
        "ตัวอย่าง function `print_grade()`มี input 3 ตัว จำเป็นต้องใส่ 2 ตัว คือ name id และไม่จำเป็นต้องใส่ 1 ตัว คือเกรด ซึ่งมีค่า default เป็น A"
      ],
      "metadata": {
        "id": "VXJPN3KnRBgC"
      }
    },
    {
      "cell_type": "code",
      "source": [
        "def print_grade(name,id,grade = 'A'):\n",
        "    print(f'รหัสประจำตัว {id} ชื่อ {name}')\n",
        "    print (f'ได้เกรด {grade}') "
      ],
      "metadata": {
        "id": "RniqX52aQXDO"
      },
      "execution_count": 46,
      "outputs": []
    },
    {
      "cell_type": "code",
      "source": [
        "print_grade('ณิชากร','623020521-8')"
      ],
      "metadata": {
        "colab": {
          "base_uri": "https://localhost:8080/"
        },
        "id": "8xFSC9YNQW_z",
        "outputId": "c729828a-76b5-48bf-e0e7-a8f8a0b1b5a8"
      },
      "execution_count": 47,
      "outputs": [
        {
          "output_type": "stream",
          "name": "stdout",
          "text": [
            "รหัสประจำตัว 623020521-8 ชื่อ ณิชากร\n",
            "ได้เกรด A\n"
          ]
        }
      ]
    },
    {
      "cell_type": "code",
      "source": [
        "print_grade('ณิชากร','623020521-8','A+')"
      ],
      "metadata": {
        "colab": {
          "base_uri": "https://localhost:8080/"
        },
        "id": "fgMTaBzFQW9f",
        "outputId": "de404cf6-9f96-4cd2-9344-eefc2abd9e1c"
      },
      "execution_count": 48,
      "outputs": [
        {
          "output_type": "stream",
          "name": "stdout",
          "text": [
            "รหัสประจำตัว 623020521-8 ชื่อ ณิชากร\n",
            "ได้เกรด A+\n"
          ]
        }
      ]
    },
    {
      "cell_type": "code",
      "source": [
        "print_grade(id='623020521-8',name='ณิชากร',grade='B+')"
      ],
      "metadata": {
        "colab": {
          "base_uri": "https://localhost:8080/"
        },
        "id": "TLwaojbuQW60",
        "outputId": "3b2f2879-6458-4a51-c3ea-2e36b5006a9a"
      },
      "execution_count": 49,
      "outputs": [
        {
          "output_type": "stream",
          "name": "stdout",
          "text": [
            "รหัสประจำตัว 623020521-8 ชื่อ ณิชากร\n",
            "ได้เกรด B+\n"
          ]
        }
      ]
    },
    {
      "cell_type": "code",
      "source": [
        ""
      ],
      "metadata": {
        "id": "kWgJwuvhQWuS"
      },
      "execution_count": 49,
      "outputs": []
    },
    {
      "cell_type": "markdown",
      "source": [
        "#Looping (for)"
      ],
      "metadata": {
        "id": "t2uw8O9QD6ZN"
      }
    },
    {
      "cell_type": "markdown",
      "source": [
        "```python\n",
        "for member in listEx:\n",
        "    do_something()\n",
        "```"
      ],
      "metadata": {
        "id": "zyHgbuUPTUto"
      }
    },
    {
      "cell_type": "code",
      "source": [
        "for member in [1,2,3,4,5,6]: #list สำคัญ\n",
        "    print(member)"
      ],
      "metadata": {
        "id": "1sj_drTZUUKQ",
        "outputId": "9e50b77a-6f78-4f72-a6d8-245b5f9dc9f8",
        "colab": {
          "base_uri": "https://localhost:8080/"
        }
      },
      "execution_count": 50,
      "outputs": [
        {
          "output_type": "stream",
          "name": "stdout",
          "text": [
            "1\n",
            "2\n",
            "3\n",
            "4\n",
            "5\n",
            "6\n"
          ]
        }
      ]
    },
    {
      "cell_type": "code",
      "source": [
        "def print_name(name):\n",
        "    print(f'ฉันชื่อ {name} ')"
      ],
      "metadata": {
        "id": "gLe27NrnU3UA"
      },
      "execution_count": 51,
      "outputs": []
    },
    {
      "cell_type": "code",
      "source": [
        "for name in ['วัชราภรณ์','จุฑากาญจน์','ชลธิชา','ญาดา','กิตติคุณ']:\n",
        "    N = name\n",
        "    print_name(N)"
      ],
      "metadata": {
        "id": "5UQAKHRoVIo3",
        "outputId": "1ae2bb42-3d95-4dee-e696-f72dda48eeb3",
        "colab": {
          "base_uri": "https://localhost:8080/"
        }
      },
      "execution_count": 52,
      "outputs": [
        {
          "output_type": "stream",
          "name": "stdout",
          "text": [
            "ฉันชื่อ วัชราภรณ์ \n",
            "ฉันชื่อ จุฑากาญจน์ \n",
            "ฉันชื่อ ชลธิชา \n",
            "ฉันชื่อ ญาดา \n",
            "ฉันชื่อ กิตติคุณ \n"
          ]
        }
      ]
    },
    {
      "cell_type": "code",
      "source": [
        "list_name_id_grade = [['นางสาวณิชากร ไชยสุวรรณ','623020521-8','A'],\n",
        "                      ['นางสาวกิตติมา อุปสุข','623021040-9','B'],\n",
        "                      ['นางสาวภิญญาดา เพ็ญสุข','623021052-2','B+']]"
      ],
      "metadata": {
        "id": "lYcTufCNWOAo"
      },
      "execution_count": 53,
      "outputs": []
    },
    {
      "cell_type": "code",
      "source": [
        "for each in list_name_id_grade:\n",
        "    name = each[0]\n",
        "    id = each[1]\n",
        "    grade = each[2]\n",
        "    print_grade(name,id,grade)\n",
        "    print('-----------------')"
      ],
      "metadata": {
        "id": "xB2m8rEPXwWm",
        "outputId": "a2060c64-622b-4dbd-cc44-e23cac053672",
        "colab": {
          "base_uri": "https://localhost:8080/"
        }
      },
      "execution_count": 54,
      "outputs": [
        {
          "output_type": "stream",
          "name": "stdout",
          "text": [
            "รหัสประจำตัว 623020521-8 ชื่อ นางสาวณิชากร ไชยสุวรรณ\n",
            "ได้เกรด A\n",
            "-----------------\n",
            "รหัสประจำตัว 623021040-9 ชื่อ นางสาวกิตติมา อุปสุข\n",
            "ได้เกรด B\n",
            "-----------------\n",
            "รหัสประจำตัว 623021052-2 ชื่อ นางสาวภิญญาดา เพ็ญสุข\n",
            "ได้เกรด B+\n",
            "-----------------\n"
          ]
        }
      ]
    },
    {
      "cell_type": "markdown",
      "source": [
        "###ใช้ for  loop เพิ่มสมาชิกใน list"
      ],
      "metadata": {
        "id": "7xXYSKR5YUPL"
      }
    },
    {
      "cell_type": "code",
      "source": [
        "list_name = [] #สร้าง list มารับ\n",
        "list_id =[]\n",
        "list_grade = []\n",
        "for each in list_name_id_grade: \n",
        "    list_name.append(each[0]) # เพิ่มสมาชิกตัวที่ 0 เข้าไปที่ list_name จาก list_name_id_grade\n",
        "    list_id.append(each[1])\n",
        "    list_grade.append(each[2])"
      ],
      "metadata": {
        "id": "IC_egfgvYcis"
      },
      "execution_count": 55,
      "outputs": []
    },
    {
      "cell_type": "code",
      "source": [
        "list_name"
      ],
      "metadata": {
        "id": "x4eg69UyYcfS",
        "outputId": "b5769a27-a82b-48c8-85b5-87e0fc99b251",
        "colab": {
          "base_uri": "https://localhost:8080/"
        }
      },
      "execution_count": 56,
      "outputs": [
        {
          "output_type": "execute_result",
          "data": {
            "text/plain": [
              "['นางสาวณิชากร ไชยสุวรรณ', 'นางสาวกิตติมา อุปสุข', 'นางสาวภิญญาดา เพ็ญสุข']"
            ]
          },
          "metadata": {},
          "execution_count": 56
        }
      ]
    },
    {
      "cell_type": "markdown",
      "source": [
        "### การวนลูปด้วย `range()`"
      ],
      "metadata": {
        "id": "Q-C5PM_ibbEz"
      }
    },
    {
      "cell_type": "code",
      "source": [
        "for i in range(100):\n",
        "    print('งง',end = ' ')"
      ],
      "metadata": {
        "id": "m8QLSb-WYcOA",
        "outputId": "2bac6ba7-ead7-4757-b90c-3704a6ab3100",
        "colab": {
          "base_uri": "https://localhost:8080/"
        }
      },
      "execution_count": 57,
      "outputs": [
        {
          "output_type": "stream",
          "name": "stdout",
          "text": [
            "งง งง งง งง งง งง งง งง งง งง งง งง งง งง งง งง งง งง งง งง งง งง งง งง งง งง งง งง งง งง งง งง งง งง งง งง งง งง งง งง งง งง งง งง งง งง งง งง งง งง งง งง งง งง งง งง งง งง งง งง งง งง งง งง งง งง งง งง งง งง งง งง งง งง งง งง งง งง งง งง งง งง งง งง งง งง งง งง งง งง งง งง งง งง งง งง งง งง งง งง "
          ]
        }
      ]
    },
    {
      "cell_type": "markdown",
      "source": [
        "###Loop ซ้อน Loop"
      ],
      "metadata": {
        "id": "s3lJ4GHscXHi"
      }
    },
    {
      "cell_type": "code",
      "source": [
        "for mem1 in range(2,5): # [2,3,4]\n",
        "    print(f'now mem1 = {mem1}')\n",
        "    for mem2 in range (1,13): #[1,2,3,4,5,6,7,8,9,10,11,12]\n",
        "        print(f'{mem1} x {mem2} = {mem1*mem2}')\n",
        "    print(f'end inner for mem1 = {mem1}')"
      ],
      "metadata": {
        "id": "Jk_Xsa7oceTW",
        "outputId": "4283c06b-8556-4b85-dc50-1fbc77584116",
        "colab": {
          "base_uri": "https://localhost:8080/"
        }
      },
      "execution_count": 58,
      "outputs": [
        {
          "output_type": "stream",
          "name": "stdout",
          "text": [
            "now mem1 = 2\n",
            "2 x 1 = 2\n",
            "2 x 2 = 4\n",
            "2 x 3 = 6\n",
            "2 x 4 = 8\n",
            "2 x 5 = 10\n",
            "2 x 6 = 12\n",
            "2 x 7 = 14\n",
            "2 x 8 = 16\n",
            "2 x 9 = 18\n",
            "2 x 10 = 20\n",
            "2 x 11 = 22\n",
            "2 x 12 = 24\n",
            "end inner for mem1 = 2\n",
            "now mem1 = 3\n",
            "3 x 1 = 3\n",
            "3 x 2 = 6\n",
            "3 x 3 = 9\n",
            "3 x 4 = 12\n",
            "3 x 5 = 15\n",
            "3 x 6 = 18\n",
            "3 x 7 = 21\n",
            "3 x 8 = 24\n",
            "3 x 9 = 27\n",
            "3 x 10 = 30\n",
            "3 x 11 = 33\n",
            "3 x 12 = 36\n",
            "end inner for mem1 = 3\n",
            "now mem1 = 4\n",
            "4 x 1 = 4\n",
            "4 x 2 = 8\n",
            "4 x 3 = 12\n",
            "4 x 4 = 16\n",
            "4 x 5 = 20\n",
            "4 x 6 = 24\n",
            "4 x 7 = 28\n",
            "4 x 8 = 32\n",
            "4 x 9 = 36\n",
            "4 x 10 = 40\n",
            "4 x 11 = 44\n",
            "4 x 12 = 48\n",
            "end inner for mem1 = 4\n"
          ]
        }
      ]
    },
    {
      "cell_type": "markdown",
      "source": [
        "###Loop in Function"
      ],
      "metadata": {
        "id": "pyxohWFbf_2H"
      }
    },
    {
      "cell_type": "code",
      "source": [
        "def  print_grade_loop(names,grades):\n",
        "    for n,g in zip(names,grades):\n",
        "        print(f'{n} ได้เกรด {g}')"
      ],
      "metadata": {
        "id": "MtG0rVmeceRc"
      },
      "execution_count": 59,
      "outputs": []
    },
    {
      "cell_type": "code",
      "source": [
        "print_grade_loop(list_name,list_grade)"
      ],
      "metadata": {
        "id": "oeBJ1d2WceL8",
        "outputId": "85280709-9b53-459f-82ec-076fffc6a3a5",
        "colab": {
          "base_uri": "https://localhost:8080/"
        }
      },
      "execution_count": 60,
      "outputs": [
        {
          "output_type": "stream",
          "name": "stdout",
          "text": [
            "นางสาวณิชากร ไชยสุวรรณ ได้เกรด A\n",
            "นางสาวกิตติมา อุปสุข ได้เกรด B\n",
            "นางสาวภิญญาดา เพ็ญสุข ได้เกรด B+\n"
          ]
        }
      ]
    },
    {
      "cell_type": "markdown",
      "source": [
        "#Conditional Statement (if)"
      ],
      "metadata": {
        "id": "9I-Kg-HzEARf"
      }
    },
    {
      "cell_type": "markdown",
      "source": [
        "```python\n",
        "if condition1:\n",
        "    do_something() #ถ้า condition1 เป็นจริง ทำ do_something()\n",
        "elif condition2:\n",
        "    do_another_thing() #ถ้า condition1 ไม่เป็นจริงแต่ condition2 เป็นจริง ทำ do_another_thing()\n",
        "else:\n",
        "    do_the_last_thing() # ถ้าไม่มี condotion ไหนเป็นจริงเลย ทำ do_the_last_thing()\n",
        "```"
      ],
      "metadata": {
        "id": "_TobHCJ7h8tF"
      }
    },
    {
      "cell_type": "code",
      "execution_count": 61,
      "metadata": {
        "id": "w5E-7k2tDZ4A",
        "outputId": "f6778d2c-7411-4e10-bbdd-f65dc135279e",
        "colab": {
          "base_uri": "https://localhost:8080/"
        }
      },
      "outputs": [
        {
          "output_type": "stream",
          "name": "stdout",
          "text": [
            "นางสาวณิชากร ไชยสุวรรณ ได้เกรด A\n",
            "นางสาวกิตติมา อุปสุข ได้เกรด F\n",
            "นางสาวภิญญาดา เพ็ญสุข ได้เกรด A\n"
          ]
        }
      ],
      "source": [
        "for n in list_name:\n",
        "    if len(n)>20:\n",
        "        print(f'{n} ได้เกรด A')\n",
        "    else:\n",
        "        print(f'{n} ได้เกรด F')"
      ]
    },
    {
      "cell_type": "markdown",
      "source": [
        "###operator ที่ใช้ตรวจสอบ condition\n",
        "\n",
        "==, !=, >=,<=,<,>,and,or"
      ],
      "metadata": {
        "id": "Z_UPFz3akDWr"
      }
    },
    {
      "cell_type": "code",
      "source": [
        "a= 10==20\n",
        "print(a)"
      ],
      "metadata": {
        "id": "TT4hTTMdj2CF",
        "outputId": "34cb2e29-894a-4bcd-aa5d-7c2ee5ba7ab6",
        "colab": {
          "base_uri": "https://localhost:8080/"
        }
      },
      "execution_count": 62,
      "outputs": [
        {
          "output_type": "stream",
          "name": "stdout",
          "text": [
            "False\n"
          ]
        }
      ]
    },
    {
      "cell_type": "code",
      "source": [
        "b= 15<=20\n",
        "print(b)"
      ],
      "metadata": {
        "id": "Seq8aVpqkhhf",
        "outputId": "cb2843ee-c17a-407c-c78d-f7ab68918ea9",
        "colab": {
          "base_uri": "https://localhost:8080/"
        }
      },
      "execution_count": 63,
      "outputs": [
        {
          "output_type": "stream",
          "name": "stdout",
          "text": [
            "True\n"
          ]
        }
      ]
    },
    {
      "cell_type": "code",
      "source": [
        "if a:\n",
        "    print('x')"
      ],
      "metadata": {
        "id": "Za3u_uOVkxzj"
      },
      "execution_count": 64,
      "outputs": []
    },
    {
      "cell_type": "code",
      "source": [
        "if True:\n",
        "    print('x')"
      ],
      "metadata": {
        "id": "xQtkMCXhk4v3",
        "outputId": "99359073-1a00-45e3-ff9a-8463429767fe",
        "colab": {
          "base_uri": "https://localhost:8080/"
        }
      },
      "execution_count": 65,
      "outputs": [
        {
          "output_type": "stream",
          "name": "stdout",
          "text": [
            "x\n"
          ]
        }
      ]
    },
    {
      "cell_type": "code",
      "source": [
        "if a and b:\n",
        "    print('x')"
      ],
      "metadata": {
        "id": "yLwk2mP-lLjp"
      },
      "execution_count": 66,
      "outputs": []
    },
    {
      "cell_type": "code",
      "source": [
        "if a or b :\n",
        "    print('x')"
      ],
      "metadata": {
        "id": "6NE_wONalVyC",
        "outputId": "5b48001d-1e81-4fce-bbbe-6864165daa84",
        "colab": {
          "base_uri": "https://localhost:8080/"
        }
      },
      "execution_count": 67,
      "outputs": [
        {
          "output_type": "stream",
          "name": "stdout",
          "text": [
            "x\n"
          ]
        }
      ]
    },
    {
      "cell_type": "markdown",
      "source": [
        "#HW\n",
        "\n",
        "เขียน function ตัดเกรด โดยที่ input  เป็นคะแนน(0-100) , output เป็นเกรด (F-A) หรือ 'ไม่สามารถตัดเกรดได้'\n",
        "วนลูป ตัดเกรด input = [1,50,65,90,101,-5,49,'ก',80]\n",
        "\n",
        "กำหนด\n",
        "* ถ้าคะแนนอยู่ระหว่างมากกว่าหรือเท่ากับ 0 แต่น้อยกว่า 50 จะได้เกรด F\n",
        "* ถ้าคะแนนอยู่ระหว่างมากกว่าหรือเท่ากับ 50 แต่น้อยกว่า 55 จะได้เกรด D\n",
        "* ถ้าคะแนนอยู่ระหว่างมากกว่าหรือเท่ากับ 55 แต่น้อยกว่า 60 จะได้เกรด D+\n",
        "* ถ้าคะแนนอยู่ระหว่างมากกว่าหรือเท่ากับ 60 แต่น้อยกว่า 65 จะได้เกรด C\n",
        "* ถ้าคะแนนอยู่ระหว่างมากกว่าหรือเท่ากับ 65 แต่น้อยกว่า 70 จะได้เกรด C+\n",
        "* ถ้าคะแนนอยู่ระหว่างมากกว่าหรือเท่ากับ 70 แต่น้อยกว่า 75 จะได้เกรด B\n",
        "* ถ้าคะแนนอยู่ระหว่างมากกว่าหรือเท่ากับ 75 แต่น้อยกว่า 80 จะได้เกรด B+\n",
        "* ถ้าคะแนนอยู่ระหว่างมากกว่าหรือเท่ากับ 80 จะได้เกรด A\n",
        "* ถ้าคะแนนไม่อยู่ในช่วง 0-100 ให้ return 'ไม่สามารถตัดเกรดได้'"
      ],
      "metadata": {
        "id": "TbKPgHxBlrdK"
      }
    },
    {
      "cell_type": "code",
      "source": [
        "score = [1,50,65,90,101,-5,49,'ก',80]\n",
        "for i in score :\n",
        "    if type(i) == type(''):\n",
        "        print(f'คะแนนคือ {i}  ไม่สามารถตัดเกรดได้')\n",
        "    else:  \n",
        "        if i >= 101:\n",
        "            print(f'คะแนนคือ {i} ไม่สามารถตัดเกรดได้')\n",
        "        elif i >= 80 :\n",
        "            print(f'คะแนนคือ {i} คะแนน ได้เกรด A')\n",
        "        elif i >= 75 :\n",
        "            print(f'คะแนนคือ {i} คะแนน ได้เกรด B+')\n",
        "        elif i >= 70 :\n",
        "            print(f'คะแนนคือ {i} คะแนน ได้เกรด B')\n",
        "        elif i >=65 :\n",
        "            print(f'คะแนนคือ {i} คะแนน ได้เกรด C+')\n",
        "        elif i >=60 :\n",
        "            print(f'คะแนนคือ {i} คะแนน ได้เกรด C')\n",
        "        elif i >=55 :\n",
        "            print(f'คะแนนคือ {i} คะแนน ได้เกรด D+')\n",
        "        elif i >=50 :\n",
        "            print(f'คะแนนคือ {i} คะแนน ได้เกรด D')\n",
        "        elif i >=0 :\n",
        "            print(f'คะแนนคือ {i} คะแนน ได้เกรด F')\n",
        "        else :\n",
        "            print(f'คะแนนคือ {i} ไม่สามารถตัดเกรดได้')"
      ],
      "metadata": {
        "id": "D3ZVC3VClgXf",
        "outputId": "d54b7fcb-03b5-4837-c016-2f9ed6bfbdfd",
        "colab": {
          "base_uri": "https://localhost:8080/"
        }
      },
      "execution_count": 70,
      "outputs": [
        {
          "output_type": "stream",
          "name": "stdout",
          "text": [
            "คะแนนคือ 1 คะแนน ได้เกรด F\n",
            "คะแนนคือ 50 คะแนน ได้เกรด D\n",
            "คะแนนคือ 65 คะแนน ได้เกรด C+\n",
            "คะแนนคือ 90 คะแนน ได้เกรด A\n",
            "คะแนนคือ 101 ไม่สามารถตัดเกรดได้\n",
            "คะแนนคือ -5 ไม่สามารถตัดเกรดได้\n",
            "คะแนนคือ 49 คะแนน ได้เกรด F\n",
            "คะแนนคือ ก  ไม่สามารถตัดเกรดได้\n",
            "คะแนนคือ 80 คะแนน ได้เกรด A\n"
          ]
        }
      ]
    },
    {
      "cell_type": "code",
      "source": [
        ""
      ],
      "metadata": {
        "id": "sj5QGHpzFY3n"
      },
      "execution_count": null,
      "outputs": []
    }
  ]
}